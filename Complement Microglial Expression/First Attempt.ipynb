{
 "cells": [
  {
   "cell_type": "markdown",
   "metadata": {},
   "source": [
    "# Fetch the datasets table"
   ]
  },
  {
   "cell_type": "code",
   "execution_count": null,
   "metadata": {},
   "outputs": [
    {
     "name": "stderr",
     "output_type": "stream",
     "text": [
      "The \"stable\" release is currently 2025-01-30. Specify 'census_version=\"2025-01-30\"' in future calls to open_soma() to ensure data consistency.\n"
     ]
    },
    {
     "data": {
      "application/vnd.microsoft.datawrangler.viewer.v0+json": {
       "columns": [
        {
         "name": "soma_joinid",
         "rawType": "int64",
         "type": "integer"
        },
        {
         "name": "citation",
         "rawType": "object",
         "type": "string"
        },
        {
         "name": "collection_id",
         "rawType": "object",
         "type": "string"
        },
        {
         "name": "collection_name",
         "rawType": "object",
         "type": "string"
        },
        {
         "name": "collection_doi",
         "rawType": "object",
         "type": "string"
        },
        {
         "name": "collection_doi_label",
         "rawType": "object",
         "type": "string"
        },
        {
         "name": "dataset_id",
         "rawType": "object",
         "type": "string"
        },
        {
         "name": "dataset_version_id",
         "rawType": "object",
         "type": "string"
        },
        {
         "name": "dataset_title",
         "rawType": "object",
         "type": "string"
        },
        {
         "name": "dataset_h5ad_path",
         "rawType": "object",
         "type": "string"
        },
        {
         "name": "dataset_total_cell_count",
         "rawType": "int64",
         "type": "integer"
        }
       ],
       "conversionMethod": "pd.DataFrame",
       "ref": "d61d1394-fe8e-4d7d-8558-3d2a1df31a5f",
       "rows": [
        [
         "946",
         "Publication: https://doi.org/10.1126/science.add7046 Dataset Version: https://datasets.cellxgene.cziscience.com/5ba4ebb8-93b4-4204-b2d0-eb0a1704fd7e.h5ad curated and distributed by CZ CELLxGENE Discover in Collection: https://cellxgene.cziscience.com/collections/283d65eb-dd53-496d-adb7-7570c7caa443",
         "283d65eb-dd53-496d-adb7-7570c7caa443",
         "Human Brain Cell Atlas v1.0",
         "10.1126/science.add7046",
         "Siletti et al. (2023) Science",
         "700aed19-c16e-4ba8-9191-07da098a8626",
         "5ba4ebb8-93b4-4204-b2d0-eb0a1704fd7e",
         "Supercluster: Microglia",
         "700aed19-c16e-4ba8-9191-07da098a8626.h5ad",
         "91838"
        ]
       ],
       "shape": {
        "columns": 10,
        "rows": 1
       }
      },
      "text/html": [
       "<div>\n",
       "<style scoped>\n",
       "    .dataframe tbody tr th:only-of-type {\n",
       "        vertical-align: middle;\n",
       "    }\n",
       "\n",
       "    .dataframe tbody tr th {\n",
       "        vertical-align: top;\n",
       "    }\n",
       "\n",
       "    .dataframe thead th {\n",
       "        text-align: right;\n",
       "    }\n",
       "</style>\n",
       "<table border=\"1\" class=\"dataframe\">\n",
       "  <thead>\n",
       "    <tr style=\"text-align: right;\">\n",
       "      <th></th>\n",
       "      <th>citation</th>\n",
       "      <th>collection_id</th>\n",
       "      <th>collection_name</th>\n",
       "      <th>collection_doi</th>\n",
       "      <th>collection_doi_label</th>\n",
       "      <th>dataset_id</th>\n",
       "      <th>dataset_version_id</th>\n",
       "      <th>dataset_title</th>\n",
       "      <th>dataset_h5ad_path</th>\n",
       "      <th>dataset_total_cell_count</th>\n",
       "    </tr>\n",
       "    <tr>\n",
       "      <th>soma_joinid</th>\n",
       "      <th></th>\n",
       "      <th></th>\n",
       "      <th></th>\n",
       "      <th></th>\n",
       "      <th></th>\n",
       "      <th></th>\n",
       "      <th></th>\n",
       "      <th></th>\n",
       "      <th></th>\n",
       "      <th></th>\n",
       "    </tr>\n",
       "  </thead>\n",
       "  <tbody>\n",
       "    <tr>\n",
       "      <th>946</th>\n",
       "      <td>Publication: https://doi.org/10.1126/science.a...</td>\n",
       "      <td>283d65eb-dd53-496d-adb7-7570c7caa443</td>\n",
       "      <td>Human Brain Cell Atlas v1.0</td>\n",
       "      <td>10.1126/science.add7046</td>\n",
       "      <td>Siletti et al. (2023) Science</td>\n",
       "      <td>700aed19-c16e-4ba8-9191-07da098a8626</td>\n",
       "      <td>5ba4ebb8-93b4-4204-b2d0-eb0a1704fd7e</td>\n",
       "      <td>Supercluster: Microglia</td>\n",
       "      <td>700aed19-c16e-4ba8-9191-07da098a8626.h5ad</td>\n",
       "      <td>91838</td>\n",
       "    </tr>\n",
       "  </tbody>\n",
       "</table>\n",
       "</div>"
      ],
      "text/plain": [
       "                                                      citation  \\\n",
       "soma_joinid                                                      \n",
       "946          Publication: https://doi.org/10.1126/science.a...   \n",
       "\n",
       "                                    collection_id  \\\n",
       "soma_joinid                                         \n",
       "946          283d65eb-dd53-496d-adb7-7570c7caa443   \n",
       "\n",
       "                         collection_name           collection_doi  \\\n",
       "soma_joinid                                                         \n",
       "946          Human Brain Cell Atlas v1.0  10.1126/science.add7046   \n",
       "\n",
       "                      collection_doi_label  \\\n",
       "soma_joinid                                  \n",
       "946          Siletti et al. (2023) Science   \n",
       "\n",
       "                                       dataset_id  \\\n",
       "soma_joinid                                         \n",
       "946          700aed19-c16e-4ba8-9191-07da098a8626   \n",
       "\n",
       "                               dataset_version_id            dataset_title  \\\n",
       "soma_joinid                                                                  \n",
       "946          5ba4ebb8-93b4-4204-b2d0-eb0a1704fd7e  Supercluster: Microglia   \n",
       "\n",
       "                                     dataset_h5ad_path  \\\n",
       "soma_joinid                                              \n",
       "946          700aed19-c16e-4ba8-9191-07da098a8626.h5ad   \n",
       "\n",
       "             dataset_total_cell_count  \n",
       "soma_joinid                            \n",
       "946                             91838  "
      ]
     },
     "execution_count": 4,
     "metadata": {},
     "output_type": "execute_result"
    }
   ],
   "source": [
    "import cellxgene_census\n",
    "\n",
    "census = cellxgene_census.open_soma()\n",
    "census_datasets = census[\"census_info\"][\"datasets\"].read().concat().to_pandas()\n",
    "\n",
    "# for convenience, indexing on the soma_joinid which links this to other census data.\n",
    "census_datasets = census_datasets.set_index(\"soma_joinid\")\n",
    "\n",
    "# Filter to only include the \"Human Brian Cell Atlas v1.0\" by the collection id == 283d65eb-dd53-496d-adb7-7570c7caa443\n",
    "census_datasets[census_datasets.collection_id == \"283d65eb-dd53-496d-adb7-7570c7caa443\"]\n",
    "\n",
    "# Filter to only include the Microglia Supercluster by the dataset id == 700aed19-c16e-4ba8-9191-07da098a8626\n",
    "census_datasets[census_datasets.dataset_id == \"700aed19-c16e-4ba8-9191-07da098a8626\"]"
   ]
  },
  {
   "cell_type": "markdown",
   "metadata": {},
   "source": [
    "# Identify all the genes measured in the dataset"
   ]
  },
  {
   "cell_type": "code",
   "execution_count": 17,
   "metadata": {},
   "outputs": [
    {
     "data": {
      "application/vnd.microsoft.datawrangler.viewer.v0+json": {
       "columns": [
        {
         "name": "index",
         "rawType": "int64",
         "type": "integer"
        },
        {
         "name": "soma_joinid",
         "rawType": "int64",
         "type": "integer"
        },
        {
         "name": "feature_id",
         "rawType": "object",
         "type": "string"
        },
        {
         "name": "feature_name",
         "rawType": "object",
         "type": "string"
        },
        {
         "name": "feature_type",
         "rawType": "object",
         "type": "string"
        },
        {
         "name": "feature_length",
         "rawType": "int64",
         "type": "integer"
        },
        {
         "name": "nnz",
         "rawType": "int64",
         "type": "integer"
        },
        {
         "name": "n_measured_obs",
         "rawType": "int64",
         "type": "integer"
        }
       ],
       "conversionMethod": "pd.DataFrame",
       "ref": "854292de-3368-4ed8-937a-4a6b1ec8a9dd",
       "rows": [
        [
         "0",
         "0",
         "ENSG00000237491",
         "LINC01409",
         "lncRNA",
         "1059",
         "7958785",
         "92252850"
        ],
        [
         "1",
         "1",
         "ENSG00000188976",
         "NOC2L",
         "protein_coding",
         "1244",
         "18685092",
         "105784525"
        ],
        [
         "2",
         "2",
         "ENSG00000187642",
         "PERM1",
         "protein_coding",
         "2765",
         "664016",
         "95688802"
        ],
        [
         "3",
         "3",
         "ENSG00000272512",
         "ENSG00000272512.1",
         "lncRNA",
         "2086",
         "927207",
         "91649589"
        ],
        [
         "4",
         "4",
         "ENSG00000188290",
         "HES4",
         "protein_coding",
         "961",
         "19206715",
         "105542421"
        ],
        [
         "5",
         "5",
         "ENSG00000187608",
         "ISG15",
         "protein_coding",
         "657",
         "17874266",
         "106022022"
        ],
        [
         "6",
         "6",
         "ENSG00000188157",
         "AGRN",
         "protein_coding",
         "2142",
         "7710637",
         "105784525"
        ],
        [
         "7",
         "7",
         "ENSG00000237330",
         "RNF223",
         "protein_coding",
         "1900",
         "801963",
         "100665754"
        ],
        [
         "8",
         "8",
         "ENSG00000131591",
         "C1orf159",
         "protein_coding",
         "982",
         "13804479",
         "105244273"
        ],
        [
         "9",
         "9",
         "ENSG00000186891",
         "TNFRSF18",
         "protein_coding",
         "789",
         "2930649",
         "105690493"
        ],
        [
         "10",
         "10",
         "ENSG00000186827",
         "TNFRSF4",
         "protein_coding",
         "1039",
         "2607617",
         "105580810"
        ],
        [
         "11",
         "11",
         "ENSG00000078808",
         "SDF4",
         "protein_coding",
         "2079",
         "28053679",
         "105784525"
        ],
        [
         "12",
         "12",
         "ENSG00000176022",
         "B3GALT6",
         "protein_coding",
         "2805",
         "6891004",
         "105588941"
        ],
        [
         "13",
         "13",
         "ENSG00000160087",
         "UBE2J2",
         "protein_coding",
         "861",
         "21511180",
         "105784525"
        ],
        [
         "14",
         "14",
         "ENSG00000131584",
         "ACAP3",
         "protein_coding",
         "819",
         "21319014",
         "105841903"
        ],
        [
         "15",
         "15",
         "ENSG00000169972",
         "PUSL1",
         "protein_coding",
         "940",
         "5496446",
         "105784525"
        ],
        [
         "16",
         "16",
         "ENSG00000127054",
         "INTS11",
         "protein_coding",
         "883",
         "20817424",
         "96795684"
        ],
        [
         "17",
         "17",
         "ENSG00000224051",
         "CPTP",
         "protein_coding",
         "1101",
         "5918124",
         "97111209"
        ],
        [
         "18",
         "18",
         "ENSG00000107404",
         "DVL1",
         "protein_coding",
         "785",
         "9610789",
         "105588941"
        ],
        [
         "19",
         "19",
         "ENSG00000162576",
         "MXRA8",
         "protein_coding",
         "1086",
         "4858290",
         "105324118"
        ],
        [
         "20",
         "20",
         "ENSG00000175756",
         "AURKAIP1",
         "protein_coding",
         "775",
         "34707859",
         "105784525"
        ],
        [
         "21",
         "21",
         "ENSG00000221978",
         "CCNL2",
         "protein_coding",
         "1503",
         "29914671",
         "105784525"
        ],
        [
         "22",
         "22",
         "ENSG00000242485",
         "MRPL20",
         "protein_coding",
         "644",
         "33977459",
         "105664112"
        ],
        [
         "23",
         "23",
         "ENSG00000179403",
         "VWA1",
         "protein_coding",
         "1483",
         "6752542",
         "104821824"
        ],
        [
         "24",
         "24",
         "ENSG00000197785",
         "ATAD3A",
         "protein_coding",
         "2298",
         "9529485",
         "105926511"
        ],
        [
         "25",
         "25",
         "ENSG00000160075",
         "SSU72",
         "protein_coding",
         "1761",
         "36007857",
         "105784525"
        ],
        [
         "26",
         "26",
         "ENSG00000215014",
         "ENSG00000215014.5",
         "lncRNA",
         "1471",
         "2372662",
         "92782225"
        ],
        [
         "27",
         "27",
         "ENSG00000228594",
         "FNDC10",
         "protein_coding",
         "2124",
         "3196707",
         "94121638"
        ],
        [
         "28",
         "28",
         "ENSG00000272106",
         "ENSG00000272106.1",
         "lncRNA",
         "2038",
         "4484798",
         "91083120"
        ],
        [
         "29",
         "29",
         "ENSG00000197530",
         "MIB2",
         "protein_coding",
         "1455",
         "15369641",
         "105784525"
        ],
        [
         "30",
         "30",
         "ENSG00000189409",
         "MMP23B",
         "protein_coding",
         "774",
         "3157562",
         "105840048"
        ],
        [
         "31",
         "31",
         "ENSG00000248333",
         "CDK11B",
         "protein_coding",
         "2490",
         "15832437",
         "105758935"
        ],
        [
         "32",
         "32",
         "ENSG00000189339",
         "SLC35E2B",
         "protein_coding",
         "2860",
         "14889011",
         "105643919"
        ],
        [
         "33",
         "33",
         "ENSG00000008128",
         "CDK11A",
         "protein_coding",
         "931",
         "14459130",
         "105584110"
        ],
        [
         "34",
         "34",
         "ENSG00000215790",
         "SLC35E2A",
         "transcribed_unprocessed_pseudogene",
         "732",
         "9110630",
         "87144587"
        ],
        [
         "35",
         "35",
         "ENSG00000008130",
         "NADK",
         "protein_coding",
         "859",
         "12553100",
         "105784525"
        ],
        [
         "36",
         "36",
         "ENSG00000078369",
         "GNB1",
         "protein_coding",
         "2750",
         "51036390",
         "105784525"
        ],
        [
         "37",
         "37",
         "ENSG00000187730",
         "GABRD",
         "protein_coding",
         "1578",
         "7489997",
         "105339052"
        ],
        [
         "38",
         "38",
         "ENSG00000067606",
         "PRKCZ",
         "protein_coding",
         "702",
         "20237795",
         "106014023"
        ],
        [
         "39",
         "39",
         "ENSG00000162585",
         "FAAP20",
         "protein_coding",
         "1413",
         "23300005",
         "94606986"
        ],
        [
         "40",
         "40",
         "ENSG00000157933",
         "SKI",
         "protein_coding",
         "448",
         "22305382",
         "105612405"
        ],
        [
         "41",
         "41",
         "ENSG00000157916",
         "RER1",
         "protein_coding",
         "695",
         "30256157",
         "105784525"
        ],
        [
         "42",
         "42",
         "ENSG00000157911",
         "PEX10",
         "protein_coding",
         "907",
         "8637362",
         "105784525"
        ],
        [
         "43",
         "43",
         "ENSG00000157881",
         "PANK4",
         "protein_coding",
         "723",
         "6035596",
         "103606906"
        ],
        [
         "44",
         "44",
         "ENSG00000197921",
         "HES5",
         "protein_coding",
         "1324",
         "2936468",
         "98549975"
        ],
        [
         "45",
         "45",
         "ENSG00000272449",
         "ENSG00000272449.3",
         "lncRNA",
         "1326",
         "3969054",
         "91778188"
        ],
        [
         "46",
         "46",
         "ENSG00000238164",
         "TNFRSF14-AS1",
         "lncRNA",
         "1218",
         "1236893",
         "86333752"
        ],
        [
         "47",
         "47",
         "ENSG00000157873",
         "TNFRSF14",
         "protein_coding",
         "884",
         "13967151",
         "99634655"
        ],
        [
         "48",
         "48",
         "ENSG00000157870",
         "PRXL2B",
         "protein_coding",
         "1096",
         "5303107",
         "92662921"
        ],
        [
         "49",
         "49",
         "ENSG00000142606",
         "MMEL1",
         "protein_coding",
         "554",
         "956572",
         "101268158"
        ]
       ],
       "shape": {
        "columns": 7,
        "rows": 59236
       }
      },
      "text/html": [
       "<div>\n",
       "<style scoped>\n",
       "    .dataframe tbody tr th:only-of-type {\n",
       "        vertical-align: middle;\n",
       "    }\n",
       "\n",
       "    .dataframe tbody tr th {\n",
       "        vertical-align: top;\n",
       "    }\n",
       "\n",
       "    .dataframe thead th {\n",
       "        text-align: right;\n",
       "    }\n",
       "</style>\n",
       "<table border=\"1\" class=\"dataframe\">\n",
       "  <thead>\n",
       "    <tr style=\"text-align: right;\">\n",
       "      <th></th>\n",
       "      <th>soma_joinid</th>\n",
       "      <th>feature_id</th>\n",
       "      <th>feature_name</th>\n",
       "      <th>feature_type</th>\n",
       "      <th>feature_length</th>\n",
       "      <th>nnz</th>\n",
       "      <th>n_measured_obs</th>\n",
       "    </tr>\n",
       "  </thead>\n",
       "  <tbody>\n",
       "    <tr>\n",
       "      <th>0</th>\n",
       "      <td>0</td>\n",
       "      <td>ENSG00000237491</td>\n",
       "      <td>LINC01409</td>\n",
       "      <td>lncRNA</td>\n",
       "      <td>1059</td>\n",
       "      <td>7958785</td>\n",
       "      <td>92252850</td>\n",
       "    </tr>\n",
       "    <tr>\n",
       "      <th>1</th>\n",
       "      <td>1</td>\n",
       "      <td>ENSG00000188976</td>\n",
       "      <td>NOC2L</td>\n",
       "      <td>protein_coding</td>\n",
       "      <td>1244</td>\n",
       "      <td>18685092</td>\n",
       "      <td>105784525</td>\n",
       "    </tr>\n",
       "    <tr>\n",
       "      <th>2</th>\n",
       "      <td>2</td>\n",
       "      <td>ENSG00000187642</td>\n",
       "      <td>PERM1</td>\n",
       "      <td>protein_coding</td>\n",
       "      <td>2765</td>\n",
       "      <td>664016</td>\n",
       "      <td>95688802</td>\n",
       "    </tr>\n",
       "    <tr>\n",
       "      <th>3</th>\n",
       "      <td>3</td>\n",
       "      <td>ENSG00000272512</td>\n",
       "      <td>ENSG00000272512.1</td>\n",
       "      <td>lncRNA</td>\n",
       "      <td>2086</td>\n",
       "      <td>927207</td>\n",
       "      <td>91649589</td>\n",
       "    </tr>\n",
       "    <tr>\n",
       "      <th>4</th>\n",
       "      <td>4</td>\n",
       "      <td>ENSG00000188290</td>\n",
       "      <td>HES4</td>\n",
       "      <td>protein_coding</td>\n",
       "      <td>961</td>\n",
       "      <td>19206715</td>\n",
       "      <td>105542421</td>\n",
       "    </tr>\n",
       "    <tr>\n",
       "      <th>...</th>\n",
       "      <td>...</td>\n",
       "      <td>...</td>\n",
       "      <td>...</td>\n",
       "      <td>...</td>\n",
       "      <td>...</td>\n",
       "      <td>...</td>\n",
       "      <td>...</td>\n",
       "    </tr>\n",
       "    <tr>\n",
       "      <th>60383</th>\n",
       "      <td>60383</td>\n",
       "      <td>ENSG00000285470</td>\n",
       "      <td>TUSC2P1</td>\n",
       "      <td>processed_pseudogene</td>\n",
       "      <td>1237</td>\n",
       "      <td>2150</td>\n",
       "      <td>23175703</td>\n",
       "    </tr>\n",
       "    <tr>\n",
       "      <th>60384</th>\n",
       "      <td>60384</td>\n",
       "      <td>ENSG00000286120</td>\n",
       "      <td>ENSG00000286120.1</td>\n",
       "      <td>transcribed_unprocessed_pseudogene</td>\n",
       "      <td>457</td>\n",
       "      <td>6</td>\n",
       "      <td>19614003</td>\n",
       "    </tr>\n",
       "    <tr>\n",
       "      <th>60385</th>\n",
       "      <td>60385</td>\n",
       "      <td>ENSG00000286173</td>\n",
       "      <td>ENSG00000286173.1</td>\n",
       "      <td>transcribed_unprocessed_pseudogene</td>\n",
       "      <td>457</td>\n",
       "      <td>3</td>\n",
       "      <td>19614003</td>\n",
       "    </tr>\n",
       "    <tr>\n",
       "      <th>60386</th>\n",
       "      <td>60386</td>\n",
       "      <td>ENSG00000286744</td>\n",
       "      <td>ENSG00000286744.1</td>\n",
       "      <td>unprocessed_pseudogene</td>\n",
       "      <td>102</td>\n",
       "      <td>74</td>\n",
       "      <td>19229873</td>\n",
       "    </tr>\n",
       "    <tr>\n",
       "      <th>60426</th>\n",
       "      <td>60426</td>\n",
       "      <td>ENSG00000289084</td>\n",
       "      <td>ENSG00000289084.1</td>\n",
       "      <td>lncRNA</td>\n",
       "      <td>637</td>\n",
       "      <td>4845634</td>\n",
       "      <td>20936510</td>\n",
       "    </tr>\n",
       "  </tbody>\n",
       "</table>\n",
       "<p>59236 rows × 7 columns</p>\n",
       "</div>"
      ],
      "text/plain": [
       "       soma_joinid       feature_id       feature_name  \\\n",
       "0                0  ENSG00000237491          LINC01409   \n",
       "1                1  ENSG00000188976              NOC2L   \n",
       "2                2  ENSG00000187642              PERM1   \n",
       "3                3  ENSG00000272512  ENSG00000272512.1   \n",
       "4                4  ENSG00000188290               HES4   \n",
       "...            ...              ...                ...   \n",
       "60383        60383  ENSG00000285470            TUSC2P1   \n",
       "60384        60384  ENSG00000286120  ENSG00000286120.1   \n",
       "60385        60385  ENSG00000286173  ENSG00000286173.1   \n",
       "60386        60386  ENSG00000286744  ENSG00000286744.1   \n",
       "60426        60426  ENSG00000289084  ENSG00000289084.1   \n",
       "\n",
       "                             feature_type  feature_length       nnz  \\\n",
       "0                                  lncRNA            1059   7958785   \n",
       "1                          protein_coding            1244  18685092   \n",
       "2                          protein_coding            2765    664016   \n",
       "3                                  lncRNA            2086    927207   \n",
       "4                          protein_coding             961  19206715   \n",
       "...                                   ...             ...       ...   \n",
       "60383                processed_pseudogene            1237      2150   \n",
       "60384  transcribed_unprocessed_pseudogene             457         6   \n",
       "60385  transcribed_unprocessed_pseudogene             457         3   \n",
       "60386              unprocessed_pseudogene             102        74   \n",
       "60426                              lncRNA             637   4845634   \n",
       "\n",
       "       n_measured_obs  \n",
       "0            92252850  \n",
       "1           105784525  \n",
       "2            95688802  \n",
       "3            91649589  \n",
       "4           105542421  \n",
       "...               ...  \n",
       "60383        23175703  \n",
       "60384        19614003  \n",
       "60385        19614003  \n",
       "60386        19229873  \n",
       "60426        20936510  \n",
       "\n",
       "[59236 rows x 7 columns]"
      ]
     },
     "execution_count": 17,
     "metadata": {},
     "output_type": "execute_result"
    }
   ],
   "source": [
    "# Grab the experiment containing human data, and the measurement therein with RNA\n",
    "human = census[\"census_data\"][\"homo_sapiens\"]\n",
    "human_rna = human.ms[\"RNA\"]\n",
    "\n",
    "# The census-wide datasets\n",
    "datasets_df = census[\"census_info\"][\"datasets\"].read().concat().to_pandas()\n",
    "\n",
    "datasets_df\n",
    "\n",
    "presence_matrix = cellxgene_census.get_presence_matrix(census, organism=\"Homo sapiens\", measurement_name=\"RNA\")\n",
    "\n",
    "presence_matrix\n",
    "\n",
    "\n",
    "var_df = human_rna.var.read().concat().to_pandas()\n",
    "\n",
    "var_df\n",
    "\n",
    "# Slice the dataset(s) of interest, and get the joinid(s)\n",
    "dataset_joinids = datasets_df.loc[datasets_df.collection_id == \"283d65eb-dd53-496d-adb7-7570c7caa443\"].soma_joinid\n",
    "\n",
    "# Slice the presence matrix by the first dimension, i.e., by dataset\n",
    "var_joinids = presence_matrix[dataset_joinids, :].tocoo().col\n",
    "\n",
    "# From the feature (var) dataframe, slice out features which have a joinid in the list.\n",
    "var_df.loc[var_df.soma_joinid.isin(var_joinids)]"
   ]
  }
 ],
 "metadata": {
  "kernelspec": {
   "display_name": "base",
   "language": "python",
   "name": "python3"
  },
  "language_info": {
   "codemirror_mode": {
    "name": "ipython",
    "version": 3
   },
   "file_extension": ".py",
   "mimetype": "text/x-python",
   "name": "python",
   "nbconvert_exporter": "python",
   "pygments_lexer": "ipython3",
   "version": "3.12.7"
  }
 },
 "nbformat": 4,
 "nbformat_minor": 2
}
