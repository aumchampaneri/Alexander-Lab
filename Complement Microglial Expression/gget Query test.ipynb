{
 "cells": [
  {
   "cell_type": "markdown",
   "metadata": {},
   "source": [
    "# Querying data using the gget cellxgene module\n",
    "\n",
    "gget is a free, open-source command-line tool and Python package that enables efficient querying of genomic databases. gget consists of a collection of separate but interoperable modules, each designed to facilitate one type of database querying in a single line of code."
   ]
  },
  {
   "cell_type": "code",
   "execution_count": 2,
   "metadata": {},
   "outputs": [
    {
     "name": "stderr",
     "output_type": "stream",
     "text": [
      "23:10:32 - INFO - Installing cellxgene-census package (requires pip).\n"
     ]
    },
    {
     "name": "stderr",
     "output_type": "stream",
     "text": [
      "23:10:33 - INFO - cellxgene_census installed succesfully.\n"
     ]
    },
    {
     "name": "stdout",
     "output_type": "stream",
     "text": [
      "Help on function cellxgene in module gget.gget_cellxgene:\n",
      "\n",
      "cellxgene(species='homo_sapiens', gene=None, ensembl=False, column_names=['dataset_id', 'assay', 'suspension_type', 'sex', 'tissue_general', 'tissue', 'cell_type'], meta_only=False, tissue=None, cell_type=None, development_stage=None, disease=None, sex=None, is_primary_data=True, dataset_id=None, tissue_general_ontology_term_id=None, tissue_general=None, assay_ontology_term_id=None, assay=None, cell_type_ontology_term_id=None, development_stage_ontology_term_id=None, disease_ontology_term_id=None, donor_id=None, self_reported_ethnicity_ontology_term_id=None, self_reported_ethnicity=None, sex_ontology_term_id=None, suspension_type=None, tissue_ontology_term_id=None, census_version='stable', verbose=True, out=None)\n",
      "    Query data from CZ CELLxGENE Discover (https://cellxgene.cziscience.com/) using the\n",
      "    CZ CELLxGENE Discover Census (https://github.com/chanzuckerberg/cellxgene-census).\n",
      "\n",
      "    NOTE: Querying large datasets requires a large amount of RAM. Use the cell metadata attributes\n",
      "    to define the (sub)dataset of interest.\n",
      "    The CZ CELLxGENE Discover Census recommends >16 GB of memory and a >5 Mbps internet connection.\n",
      "\n",
      "    General args:\n",
      "        - species        Choice of 'homo_sapiens' or 'mus_musculus'. Default: 'homo_sapiens'.\n",
      "        - gene           Str or list of gene name(s) or Ensembl ID(s), e.g. ['ACE2', 'SLC5A1'] or ['ENSG00000130234', 'ENSG00000100170']. Default: None.\n",
      "                         NOTE: Set ensembl=True when providing Ensembl ID(s) instead of gene name(s).\n",
      "                         See https://cellxgene.cziscience.com/gene-expression for examples of available genes.\n",
      "        - ensembl        True/False (default: False). Set to True when genes are provided as Ensembl IDs.\n",
      "        - column_names   List of metadata columns to return (stored in AnnData.obs when meta_only=False).\n",
      "                         Default: [\"dataset_id\", \"assay\", \"suspension_type\", \"sex\", \"tissue_general\", \"tissue\", \"cell_type\"]\n",
      "                         For more options see: https://api.cellxgene.cziscience.com/curation/ui/#/ -> Schemas -> dataset\n",
      "        - meta_only      True/False (default: False). If True, returns only metadata dataframe (corresponds to AnnData.obs).\n",
      "        - census_version Str defining version of Census, e.g. \"2023-05-15\" or \"latest\" or \"stable\". Default: \"stable\".\n",
      "        - verbose        True/False whether to print progress information. Default True.\n",
      "        - out            If provided, saves the generated AnnData h5ad (or csv when meta_only=True) file with the specified path. Default: None.\n",
      "\n",
      "    Cell metadata attributes:\n",
      "        - tissue                          Str or list of tissue(s), e.g. ['lung', 'blood']. Default: None.\n",
      "                                          See https://cellxgene.cziscience.com/gene-expression for examples of available tissues.\n",
      "        - cell_type                       Str or list of celltype(s), e.g. ['mucus secreting cell', 'neuroendocrine cell']. Default: None.\n",
      "                                          See https://cellxgene.cziscience.com/gene-expression and select a tissue to see examples of available celltypes.\n",
      "        - development_stage               Str or list of development stage(s). Default: None.\n",
      "        - disease                         Str or list of disease(s). Default: None.\n",
      "        - sex                             Str or list of sex(es), e.g. 'female'. Default: None.\n",
      "        - is_primary_data                 True/False (default: True). If True, returns only the canonical instance of the cellular observation.\n",
      "                                          This is commonly set to False for meta-analyses reusing data or for secondary views of data.\n",
      "        - dataset_id                      Str or list of CELLxGENE dataset ID(s). Default: None.\n",
      "        - tissue_general_ontology_term_id Str or list of high-level tissue UBERON ID(s). Default: None.\n",
      "                                          Also see: https://github.com/chanzuckerberg/single-cell-data-portal/blob/9b94ccb0a2e0a8f6182b213aa4852c491f6f6aff/backend/wmg/data/tissue_mapper.py\n",
      "        - tissue_general                  Str or list of high-level tissue label(s). Default: None.\n",
      "                                          Also see: https://github.com/chanzuckerberg/single-cell-data-portal/blob/9b94ccb0a2e0a8f6182b213aa4852c491f6f6aff/backend/wmg/data/tissue_mapper.py\n",
      "        - tissue_ontology_term_id         Str or list of tissue ontology term ID(s) as defined in the CELLxGENE dataset schema. Default: None.\n",
      "        - assay_ontology_term_id          Str or list of assay ontology term ID(s) as defined in the CELLxGENE dataset schema. Default: None.\n",
      "        - assay                           Str or list of assay(s) as defined in the CELLxGENE dataset schema. Default: None.\n",
      "        - cell_type_ontology_term_id      Str or list of celltype ontology term ID(s) as defined in the CELLxGENE dataset schema. Default: None.\n",
      "        - development_stage_ontology_term_id        Str or list of development stage ontology term ID(s) as defined in the CELLxGENE dataset schema. Default: None.\n",
      "        - disease_ontology_term_id        Str or list of disease ontology term ID(s) as defined in the CELLxGENE dataset schema. Default: None.\n",
      "        - donor_id                        Str or list of donor ID(s) as defined in the CELLxGENE dataset schema. Default: None.\n",
      "        - self_reported_ethnicity_ontology_term_id  Str or list of self reported ethnicity ontology ID(s) as defined in the CELLxGENE dataset schema. Default: None.\n",
      "        - self_reported_ethnicity         Str or list of self reported ethnicity as defined in the CELLxGENE dataset schema. Default: None.\n",
      "        - sex_ontology_term_id            Str or list of sex ontology ID(s) as defined in the CELLxGENE dataset schema. Default: None.\n",
      "        - suspension_type                 Str or list of suspension type(s) as defined in the CELLxGENE dataset schema. Default: None.\n",
      "\n",
      "    Returns AnnData object (when meta_only=False) or dataframe (when meta_only=True).\n",
      "\n"
     ]
    }
   ],
   "source": [
    "import gget\n",
    "gget.setup(\"cellxgene\")\n",
    "\n",
    "# Display all options of the cellxgene gget module\n",
    "help(gget.cellxgene)"
   ]
  },
  {
   "cell_type": "markdown",
   "metadata": {},
   "source": [
    "# Fetch an AnnData object by selecting gene(s), tissue(s) and cell type(s)"
   ]
  },
  {
   "cell_type": "code",
   "execution_count": 25,
   "metadata": {},
   "outputs": [
    {
     "name": "stderr",
     "output_type": "stream",
     "text": [
      "23:46:13 - INFO - Fetching AnnData object from CZ CELLxGENE Discover. This might take a few minutes...\n"
     ]
    },
    {
     "name": "stderr",
     "output_type": "stream",
     "text": [
      "The \"stable\" release is currently 2025-01-30. Specify 'census_version=\"2025-01-30\"' in future calls to open_soma() to ensure data consistency.\n",
      "/opt/homebrew/Caskroom/miniconda/base/lib/python3.12/site-packages/gget/gget_cellxgene.py:189: FutureWarning: The argument `column_names` is deprecated and will be removed in a future release. Please use `obs_column_names` and `var_column_names` instead.\n",
      "  adata = cellxgene_census.get_anndata(\n"
     ]
    },
    {
     "data": {
      "text/plain": [
       "AnnData object with n_obs × n_vars = 0 × 3\n",
       "    obs: 'dataset_id', 'assay', 'suspension_type', 'sex', 'tissue_general', 'tissue', 'cell_type', 'is_primary_data'\n",
       "    var: 'soma_joinid', 'feature_id', 'feature_name', 'feature_type', 'feature_length', 'nnz', 'n_measured_obs'"
      ]
     },
     "execution_count": 25,
     "metadata": {},
     "output_type": "execute_result"
    }
   ],
   "source": [
    "# Filter to only include the Microglia Supercluster by the dataset id == 700aed19-c16e-4ba8-9191-07da098a8626\n",
    "adata = gget.cellxgene(\n",
    "    dataset_id = \"700aed19-c16e-4ba8-9191-07da098a8626\",\n",
    "    assay= \"10X 3' v2\",\n",
    "    gene=[\"ENSG00000197405\",\"ENSG00000171860\",\"ENSG00000000971\"],\n",
    "    ensembl=True,  # Setting 'ensembl=True' here since the gene is passed as an Ensembl ID\n",
    ")\n",
    "\n",
    "adata\n",
    "\n",
    "# Polls all the 'var' attributes in the dataset\n",
    "# No 'obs' to report as we filtered by dataset_id"
   ]
  },
  {
   "cell_type": "code",
   "execution_count": null,
   "metadata": {},
   "outputs": [
    {
     "name": "stderr",
     "output_type": "stream",
     "text": [
      "23:42:40 - INFO - Fetching metadata from CZ CELLxGENE Discover...\n"
     ]
    },
    {
     "data": {
      "text/html": [
       "<div>\n",
       "<style scoped>\n",
       "    .dataframe tbody tr th:only-of-type {\n",
       "        vertical-align: middle;\n",
       "    }\n",
       "\n",
       "    .dataframe tbody tr th {\n",
       "        vertical-align: top;\n",
       "    }\n",
       "\n",
       "    .dataframe thead th {\n",
       "        text-align: right;\n",
       "    }\n",
       "</style>\n",
       "<table border=\"1\" class=\"dataframe\">\n",
       "  <thead>\n",
       "    <tr style=\"text-align: right;\">\n",
       "      <th></th>\n",
       "      <th>dataset_id</th>\n",
       "      <th>assay</th>\n",
       "      <th>suspension_type</th>\n",
       "      <th>sex</th>\n",
       "      <th>tissue_general</th>\n",
       "      <th>tissue</th>\n",
       "      <th>cell_type</th>\n",
       "      <th>is_primary_data</th>\n",
       "    </tr>\n",
       "  </thead>\n",
       "  <tbody>\n",
       "    <tr>\n",
       "      <th>0</th>\n",
       "      <td>3bbb6cf9-72b9-41be-b568-656de6eb18b5</td>\n",
       "      <td>10x 3' v3</td>\n",
       "      <td>nucleus</td>\n",
       "      <td>female</td>\n",
       "      <td>brain</td>\n",
       "      <td>brain</td>\n",
       "      <td>microglial cell</td>\n",
       "      <td>True</td>\n",
       "    </tr>\n",
       "    <tr>\n",
       "      <th>1</th>\n",
       "      <td>3bbb6cf9-72b9-41be-b568-656de6eb18b5</td>\n",
       "      <td>10x 3' v3</td>\n",
       "      <td>nucleus</td>\n",
       "      <td>female</td>\n",
       "      <td>brain</td>\n",
       "      <td>brain</td>\n",
       "      <td>microglial cell</td>\n",
       "      <td>True</td>\n",
       "    </tr>\n",
       "    <tr>\n",
       "      <th>2</th>\n",
       "      <td>3bbb6cf9-72b9-41be-b568-656de6eb18b5</td>\n",
       "      <td>10x 3' v3</td>\n",
       "      <td>nucleus</td>\n",
       "      <td>female</td>\n",
       "      <td>brain</td>\n",
       "      <td>brain</td>\n",
       "      <td>microglial cell</td>\n",
       "      <td>True</td>\n",
       "    </tr>\n",
       "    <tr>\n",
       "      <th>3</th>\n",
       "      <td>3bbb6cf9-72b9-41be-b568-656de6eb18b5</td>\n",
       "      <td>10x 3' v3</td>\n",
       "      <td>nucleus</td>\n",
       "      <td>female</td>\n",
       "      <td>brain</td>\n",
       "      <td>brain</td>\n",
       "      <td>microglial cell</td>\n",
       "      <td>True</td>\n",
       "    </tr>\n",
       "    <tr>\n",
       "      <th>4</th>\n",
       "      <td>3bbb6cf9-72b9-41be-b568-656de6eb18b5</td>\n",
       "      <td>10x 3' v3</td>\n",
       "      <td>nucleus</td>\n",
       "      <td>female</td>\n",
       "      <td>brain</td>\n",
       "      <td>brain</td>\n",
       "      <td>microglial cell</td>\n",
       "      <td>True</td>\n",
       "    </tr>\n",
       "    <tr>\n",
       "      <th>...</th>\n",
       "      <td>...</td>\n",
       "      <td>...</td>\n",
       "      <td>...</td>\n",
       "      <td>...</td>\n",
       "      <td>...</td>\n",
       "      <td>...</td>\n",
       "      <td>...</td>\n",
       "      <td>...</td>\n",
       "    </tr>\n",
       "    <tr>\n",
       "      <th>16604</th>\n",
       "      <td>98e5ea9f-16d6-47ec-a529-686e76515e39</td>\n",
       "      <td>Smart-seq2</td>\n",
       "      <td>cell</td>\n",
       "      <td>male</td>\n",
       "      <td>brain</td>\n",
       "      <td>brain</td>\n",
       "      <td>microglial cell</td>\n",
       "      <td>True</td>\n",
       "    </tr>\n",
       "    <tr>\n",
       "      <th>16605</th>\n",
       "      <td>98e5ea9f-16d6-47ec-a529-686e76515e39</td>\n",
       "      <td>Smart-seq2</td>\n",
       "      <td>cell</td>\n",
       "      <td>male</td>\n",
       "      <td>brain</td>\n",
       "      <td>brain</td>\n",
       "      <td>microglial cell</td>\n",
       "      <td>True</td>\n",
       "    </tr>\n",
       "    <tr>\n",
       "      <th>16606</th>\n",
       "      <td>98e5ea9f-16d6-47ec-a529-686e76515e39</td>\n",
       "      <td>Smart-seq2</td>\n",
       "      <td>cell</td>\n",
       "      <td>male</td>\n",
       "      <td>brain</td>\n",
       "      <td>brain</td>\n",
       "      <td>microglial cell</td>\n",
       "      <td>True</td>\n",
       "    </tr>\n",
       "    <tr>\n",
       "      <th>16607</th>\n",
       "      <td>98e5ea9f-16d6-47ec-a529-686e76515e39</td>\n",
       "      <td>Smart-seq2</td>\n",
       "      <td>cell</td>\n",
       "      <td>male</td>\n",
       "      <td>brain</td>\n",
       "      <td>brain</td>\n",
       "      <td>microglial cell</td>\n",
       "      <td>True</td>\n",
       "    </tr>\n",
       "    <tr>\n",
       "      <th>16608</th>\n",
       "      <td>98e5ea9f-16d6-47ec-a529-686e76515e39</td>\n",
       "      <td>Smart-seq2</td>\n",
       "      <td>cell</td>\n",
       "      <td>male</td>\n",
       "      <td>brain</td>\n",
       "      <td>brain</td>\n",
       "      <td>microglial cell</td>\n",
       "      <td>True</td>\n",
       "    </tr>\n",
       "  </tbody>\n",
       "</table>\n",
       "<p>16609 rows × 8 columns</p>\n",
       "</div>"
      ],
      "text/plain": [
       "                                 dataset_id       assay suspension_type  \\\n",
       "0      3bbb6cf9-72b9-41be-b568-656de6eb18b5   10x 3' v3         nucleus   \n",
       "1      3bbb6cf9-72b9-41be-b568-656de6eb18b5   10x 3' v3         nucleus   \n",
       "2      3bbb6cf9-72b9-41be-b568-656de6eb18b5   10x 3' v3         nucleus   \n",
       "3      3bbb6cf9-72b9-41be-b568-656de6eb18b5   10x 3' v3         nucleus   \n",
       "4      3bbb6cf9-72b9-41be-b568-656de6eb18b5   10x 3' v3         nucleus   \n",
       "...                                     ...         ...             ...   \n",
       "16604  98e5ea9f-16d6-47ec-a529-686e76515e39  Smart-seq2            cell   \n",
       "16605  98e5ea9f-16d6-47ec-a529-686e76515e39  Smart-seq2            cell   \n",
       "16606  98e5ea9f-16d6-47ec-a529-686e76515e39  Smart-seq2            cell   \n",
       "16607  98e5ea9f-16d6-47ec-a529-686e76515e39  Smart-seq2            cell   \n",
       "16608  98e5ea9f-16d6-47ec-a529-686e76515e39  Smart-seq2            cell   \n",
       "\n",
       "          sex tissue_general tissue        cell_type  is_primary_data  \n",
       "0      female          brain  brain  microglial cell             True  \n",
       "1      female          brain  brain  microglial cell             True  \n",
       "2      female          brain  brain  microglial cell             True  \n",
       "3      female          brain  brain  microglial cell             True  \n",
       "4      female          brain  brain  microglial cell             True  \n",
       "...       ...            ...    ...              ...              ...  \n",
       "16604    male          brain  brain  microglial cell             True  \n",
       "16605    male          brain  brain  microglial cell             True  \n",
       "16606    male          brain  brain  microglial cell             True  \n",
       "16607    male          brain  brain  microglial cell             True  \n",
       "16608    male          brain  brain  microglial cell             True  \n",
       "\n",
       "[16609 rows x 8 columns]"
      ]
     },
     "execution_count": 22,
     "metadata": {},
     "output_type": "execute_result"
    }
   ],
   "source": [
    "df = gget.cellxgene(\n",
    "    meta_only=False,\n",
    "    census_version=\"2023-05-15\",  # Specify Census version for reproducibility over time\n",
    "    gene=[\"ENSG00000197405\",\"ENSG00000171860\",\"ENSG00000000971\"],\n",
    "    ensembl=True,  # Setting 'ensembl=True' here since the gene is passed as an Ensembl ID\n",
    "    tissue=\"brain\",\n",
    "    species=\"mus_musculus\",  # Let's switch up the species\n",
    "    cell_type=\"microglial cell\",\n",
    ")\n",
    "\n",
    "df"
   ]
  },
  {
   "cell_type": "code",
   "execution_count": 27,
   "metadata": {},
   "outputs": [
    {
     "name": "stderr",
     "output_type": "stream",
     "text": [
      "23:52:15 - INFO - Fetching AnnData object from CZ CELLxGENE Discover. This might take a few minutes...\n",
      "The \"stable\" release is currently 2025-01-30. Specify 'census_version=\"2025-01-30\"' in future calls to open_soma() to ensure data consistency.\n",
      "/opt/homebrew/Caskroom/miniconda/base/lib/python3.12/site-packages/gget/gget_cellxgene.py:189: FutureWarning: The argument `column_names` is deprecated and will be removed in a future release. Please use `obs_column_names` and `var_column_names` instead.\n",
      "  adata = cellxgene_census.get_anndata(\n"
     ]
    },
    {
     "ename": "KeyboardInterrupt",
     "evalue": "",
     "output_type": "error",
     "traceback": [
      "\u001b[0;31m---------------------------------------------------------------------------\u001b[0m",
      "\u001b[0;31mKeyboardInterrupt\u001b[0m                         Traceback (most recent call last)",
      "Cell \u001b[0;32mIn[27], line 2\u001b[0m\n\u001b[1;32m      1\u001b[0m \u001b[38;5;66;03m# Fetch AnnData object based on specified genes, tissue and cell types\u001b[39;00m\n\u001b[0;32m----> 2\u001b[0m adata \u001b[38;5;241m=\u001b[39m \u001b[43mgget\u001b[49m\u001b[38;5;241;43m.\u001b[39;49m\u001b[43mcellxgene\u001b[49m\u001b[43m(\u001b[49m\n\u001b[1;32m      3\u001b[0m \u001b[43m    \u001b[49m\u001b[43mgene\u001b[49m\u001b[38;5;241;43m=\u001b[39;49m\u001b[43m[\u001b[49m\u001b[38;5;124;43m\"\u001b[39;49m\u001b[38;5;124;43mACE2\u001b[39;49m\u001b[38;5;124;43m\"\u001b[39;49m\u001b[43m,\u001b[49m\u001b[43m \u001b[49m\u001b[38;5;124;43m\"\u001b[39;49m\u001b[38;5;124;43mABCA1\u001b[39;49m\u001b[38;5;124;43m\"\u001b[39;49m\u001b[43m,\u001b[49m\u001b[43m \u001b[49m\u001b[38;5;124;43m\"\u001b[39;49m\u001b[38;5;124;43mSLC5A1\u001b[39;49m\u001b[38;5;124;43m\"\u001b[39;49m\u001b[43m]\u001b[49m\u001b[43m,\u001b[49m\u001b[43m \u001b[49m\u001b[43mtissue\u001b[49m\u001b[38;5;241;43m=\u001b[39;49m\u001b[38;5;124;43m\"\u001b[39;49m\u001b[38;5;124;43mlung\u001b[39;49m\u001b[38;5;124;43m\"\u001b[39;49m\u001b[43m,\u001b[49m\u001b[43m \u001b[49m\u001b[43mcell_type\u001b[49m\u001b[38;5;241;43m=\u001b[39;49m\u001b[43m[\u001b[49m\u001b[38;5;124;43m\"\u001b[39;49m\u001b[38;5;124;43mmucus secreting cell\u001b[39;49m\u001b[38;5;124;43m\"\u001b[39;49m\u001b[43m,\u001b[49m\u001b[43m \u001b[49m\u001b[38;5;124;43m\"\u001b[39;49m\u001b[38;5;124;43mneuroendocrine cell\u001b[39;49m\u001b[38;5;124;43m\"\u001b[39;49m\u001b[43m]\u001b[49m\n\u001b[1;32m      4\u001b[0m \u001b[43m)\u001b[49m\n\u001b[1;32m      6\u001b[0m adata\n\u001b[1;32m      8\u001b[0m \u001b[38;5;28;01mimport\u001b[39;00m \u001b[38;5;21;01mscanpy\u001b[39;00m \u001b[38;5;28;01mas\u001b[39;00m \u001b[38;5;21;01msc\u001b[39;00m\n",
      "File \u001b[0;32m/opt/homebrew/Caskroom/miniconda/base/lib/python3.12/site-packages/gget/gget_cellxgene.py:189\u001b[0m, in \u001b[0;36mcellxgene\u001b[0;34m(species, gene, ensembl, column_names, meta_only, tissue, cell_type, development_stage, disease, sex, is_primary_data, dataset_id, tissue_general_ontology_term_id, tissue_general, assay_ontology_term_id, assay, cell_type_ontology_term_id, development_stage_ontology_term_id, disease_ontology_term_id, donor_id, self_reported_ethnicity_ontology_term_id, self_reported_ethnicity, sex_ontology_term_id, suspension_type, tissue_ontology_term_id, census_version, verbose, out)\u001b[0m\n\u001b[1;32m    186\u001b[0m     var_value_filter \u001b[38;5;241m=\u001b[39m \u001b[38;5;28;01mNone\u001b[39;00m\n\u001b[1;32m    188\u001b[0m \u001b[38;5;28;01mwith\u001b[39;00m cellxgene_census\u001b[38;5;241m.\u001b[39mopen_soma(census_version\u001b[38;5;241m=\u001b[39mcensus_version) \u001b[38;5;28;01mas\u001b[39;00m census:\n\u001b[0;32m--> 189\u001b[0m     adata \u001b[38;5;241m=\u001b[39m \u001b[43mcellxgene_census\u001b[49m\u001b[38;5;241;43m.\u001b[39;49m\u001b[43mget_anndata\u001b[49m\u001b[43m(\u001b[49m\n\u001b[1;32m    190\u001b[0m \u001b[43m        \u001b[49m\u001b[43mcensus\u001b[49m\u001b[38;5;241;43m=\u001b[39;49m\u001b[43mcensus\u001b[49m\u001b[43m,\u001b[49m\n\u001b[1;32m    191\u001b[0m \u001b[43m        \u001b[49m\u001b[43morganism\u001b[49m\u001b[38;5;241;43m=\u001b[39;49m\u001b[43mspecies\u001b[49m\u001b[43m,\u001b[49m\n\u001b[1;32m    192\u001b[0m \u001b[43m        \u001b[49m\u001b[43mvar_value_filter\u001b[49m\u001b[38;5;241;43m=\u001b[39;49m\u001b[43mvar_value_filter\u001b[49m\u001b[43m,\u001b[49m\n\u001b[1;32m    193\u001b[0m \u001b[43m        \u001b[49m\u001b[43mobs_value_filter\u001b[49m\u001b[38;5;241;43m=\u001b[39;49m\u001b[43mobs_value_filter\u001b[49m\u001b[43m,\u001b[49m\n\u001b[1;32m    194\u001b[0m \u001b[43m        \u001b[49m\u001b[43mcolumn_names\u001b[49m\u001b[38;5;241;43m=\u001b[39;49m\u001b[43m{\u001b[49m\u001b[38;5;124;43m\"\u001b[39;49m\u001b[38;5;124;43mobs\u001b[39;49m\u001b[38;5;124;43m\"\u001b[39;49m\u001b[43m:\u001b[49m\u001b[43m \u001b[49m\u001b[43mcolumn_names\u001b[49m\u001b[43m}\u001b[49m\u001b[43m,\u001b[49m\n\u001b[1;32m    195\u001b[0m \u001b[43m    \u001b[49m\u001b[43m)\u001b[49m\n\u001b[1;32m    197\u001b[0m     \u001b[38;5;28;01mif\u001b[39;00m out:\n\u001b[1;32m    198\u001b[0m         adata\u001b[38;5;241m.\u001b[39mwrite(out)\n",
      "File \u001b[0;32m/opt/homebrew/Caskroom/miniconda/base/lib/python3.12/site-packages/cellxgene_census/_get_anndata.py:138\u001b[0m, in \u001b[0;36mget_anndata\u001b[0;34m(census, organism, measurement_name, X_name, X_layers, obsm_layers, obsp_layers, varm_layers, varp_layers, obs_value_filter, obs_coords, var_value_filter, var_coords, column_names, obs_embeddings, var_embeddings, obs_column_names, var_column_names)\u001b[0m\n\u001b[1;32m    131\u001b[0m         var_column_names \u001b[38;5;241m=\u001b[39m column_names[\u001b[38;5;124m\"\u001b[39m\u001b[38;5;124mvar\u001b[39m\u001b[38;5;124m\"\u001b[39m]\n\u001b[1;32m    133\u001b[0m \u001b[38;5;28;01mwith\u001b[39;00m exp\u001b[38;5;241m.\u001b[39maxis_query(\n\u001b[1;32m    134\u001b[0m     measurement_name,\n\u001b[1;32m    135\u001b[0m     obs_query\u001b[38;5;241m=\u001b[39msoma\u001b[38;5;241m.\u001b[39mAxisQuery(value_filter\u001b[38;5;241m=\u001b[39mobs_value_filter, coords\u001b[38;5;241m=\u001b[39mobs_coords),\n\u001b[1;32m    136\u001b[0m     var_query\u001b[38;5;241m=\u001b[39msoma\u001b[38;5;241m.\u001b[39mAxisQuery(value_filter\u001b[38;5;241m=\u001b[39mvar_value_filter, coords\u001b[38;5;241m=\u001b[39mvar_coords),\n\u001b[1;32m    137\u001b[0m ) \u001b[38;5;28;01mas\u001b[39;00m query:\n\u001b[0;32m--> 138\u001b[0m     adata \u001b[38;5;241m=\u001b[39m \u001b[43mquery\u001b[49m\u001b[38;5;241;43m.\u001b[39;49m\u001b[43mto_anndata\u001b[49m\u001b[43m(\u001b[49m\n\u001b[1;32m    139\u001b[0m \u001b[43m        \u001b[49m\u001b[43mX_name\u001b[49m\u001b[38;5;241;43m=\u001b[39;49m\u001b[43mX_name\u001b[49m\u001b[43m,\u001b[49m\n\u001b[1;32m    140\u001b[0m \u001b[43m        \u001b[49m\u001b[43mcolumn_names\u001b[49m\u001b[38;5;241;43m=\u001b[39;49m\u001b[43m{\u001b[49m\u001b[38;5;124;43m\"\u001b[39;49m\u001b[38;5;124;43mobs\u001b[39;49m\u001b[38;5;124;43m\"\u001b[39;49m\u001b[43m:\u001b[49m\u001b[43m \u001b[49m\u001b[43mobs_column_names\u001b[49m\u001b[43m,\u001b[49m\u001b[43m \u001b[49m\u001b[38;5;124;43m\"\u001b[39;49m\u001b[38;5;124;43mvar\u001b[39;49m\u001b[38;5;124;43m\"\u001b[39;49m\u001b[43m:\u001b[49m\u001b[43m \u001b[49m\u001b[43mvar_column_names\u001b[49m\u001b[43m}\u001b[49m\u001b[43m,\u001b[49m\n\u001b[1;32m    141\u001b[0m \u001b[43m        \u001b[49m\u001b[43mX_layers\u001b[49m\u001b[38;5;241;43m=\u001b[39;49m\u001b[43mX_layers\u001b[49m\u001b[43m,\u001b[49m\n\u001b[1;32m    142\u001b[0m \u001b[43m        \u001b[49m\u001b[43mobsm_layers\u001b[49m\u001b[38;5;241;43m=\u001b[39;49m\u001b[43mobsm_layers\u001b[49m\u001b[43m,\u001b[49m\n\u001b[1;32m    143\u001b[0m \u001b[43m        \u001b[49m\u001b[43mvarm_layers\u001b[49m\u001b[38;5;241;43m=\u001b[39;49m\u001b[43mvarm_layers\u001b[49m\u001b[43m,\u001b[49m\n\u001b[1;32m    144\u001b[0m \u001b[43m        \u001b[49m\u001b[43mobsp_layers\u001b[49m\u001b[38;5;241;43m=\u001b[39;49m\u001b[43mobsp_layers\u001b[49m\u001b[43m,\u001b[49m\n\u001b[1;32m    145\u001b[0m \u001b[43m        \u001b[49m\u001b[43mvarp_layers\u001b[49m\u001b[38;5;241;43m=\u001b[39;49m\u001b[43mvarp_layers\u001b[49m\u001b[43m,\u001b[49m\n\u001b[1;32m    146\u001b[0m \u001b[43m    \u001b[49m\u001b[43m)\u001b[49m\n\u001b[1;32m    148\u001b[0m     \u001b[38;5;66;03m# If obs_embeddings or var_embeddings are defined, inject them in the appropriate slot\u001b[39;00m\n\u001b[1;32m    149\u001b[0m     \u001b[38;5;28;01mif\u001b[39;00m obs_embeddings \u001b[38;5;129;01mor\u001b[39;00m var_embeddings:\n",
      "File \u001b[0;32m/opt/homebrew/Caskroom/miniconda/base/lib/python3.12/site-packages/tiledbsoma/_query.py:530\u001b[0m, in \u001b[0;36mExperimentAxisQuery.to_anndata\u001b[0;34m(self, X_name, column_names, X_layers, obsm_layers, obsp_layers, varm_layers, varp_layers, drop_levels)\u001b[0m\n\u001b[1;32m    526\u001b[0m         \u001b[38;5;28;01mif\u001b[39;00m var[name]\u001b[38;5;241m.\u001b[39mdtype\u001b[38;5;241m.\u001b[39mname \u001b[38;5;241m==\u001b[39m \u001b[38;5;124m\"\u001b[39m\u001b[38;5;124mcategory\u001b[39m\u001b[38;5;124m\"\u001b[39m:\n\u001b[1;32m    527\u001b[0m             var[name] \u001b[38;5;241m=\u001b[39m var[name]\u001b[38;5;241m.\u001b[39mcat\u001b[38;5;241m.\u001b[39mremove_unused_categories()\n\u001b[1;32m    529\u001b[0m \u001b[38;5;28;01mreturn\u001b[39;00m AnnData(\n\u001b[0;32m--> 530\u001b[0m     X\u001b[38;5;241m=\u001b[39m\u001b[43mx_future\u001b[49m\u001b[38;5;241;43m.\u001b[39;49m\u001b[43mresult\u001b[49m\u001b[43m(\u001b[49m\u001b[43m)\u001b[49m,\n\u001b[1;32m    531\u001b[0m     obs\u001b[38;5;241m=\u001b[39mobs,\n\u001b[1;32m    532\u001b[0m     var\u001b[38;5;241m=\u001b[39mvar,\n\u001b[1;32m    533\u001b[0m     obsm\u001b[38;5;241m=\u001b[39m(_resolve_futures(obsm_future) \u001b[38;5;129;01mor\u001b[39;00m \u001b[38;5;28;01mNone\u001b[39;00m),\n\u001b[1;32m    534\u001b[0m     obsp\u001b[38;5;241m=\u001b[39m(_resolve_futures(obsp_future) \u001b[38;5;129;01mor\u001b[39;00m \u001b[38;5;28;01mNone\u001b[39;00m),\n\u001b[1;32m    535\u001b[0m     varm\u001b[38;5;241m=\u001b[39m(_resolve_futures(varm_future) \u001b[38;5;129;01mor\u001b[39;00m \u001b[38;5;28;01mNone\u001b[39;00m),\n\u001b[1;32m    536\u001b[0m     varp\u001b[38;5;241m=\u001b[39m(_resolve_futures(varp_future) \u001b[38;5;129;01mor\u001b[39;00m \u001b[38;5;28;01mNone\u001b[39;00m),\n\u001b[1;32m    537\u001b[0m     layers\u001b[38;5;241m=\u001b[39m(_resolve_futures(x_matrices) \u001b[38;5;129;01mor\u001b[39;00m \u001b[38;5;28;01mNone\u001b[39;00m),\n\u001b[1;32m    538\u001b[0m )\n",
      "File \u001b[0;32m/opt/homebrew/Caskroom/miniconda/base/lib/python3.12/concurrent/futures/_base.py:451\u001b[0m, in \u001b[0;36mFuture.result\u001b[0;34m(self, timeout)\u001b[0m\n\u001b[1;32m    448\u001b[0m \u001b[38;5;28;01melif\u001b[39;00m \u001b[38;5;28mself\u001b[39m\u001b[38;5;241m.\u001b[39m_state \u001b[38;5;241m==\u001b[39m FINISHED:\n\u001b[1;32m    449\u001b[0m     \u001b[38;5;28;01mreturn\u001b[39;00m \u001b[38;5;28mself\u001b[39m\u001b[38;5;241m.\u001b[39m__get_result()\n\u001b[0;32m--> 451\u001b[0m \u001b[38;5;28;43mself\u001b[39;49m\u001b[38;5;241;43m.\u001b[39;49m\u001b[43m_condition\u001b[49m\u001b[38;5;241;43m.\u001b[39;49m\u001b[43mwait\u001b[49m\u001b[43m(\u001b[49m\u001b[43mtimeout\u001b[49m\u001b[43m)\u001b[49m\n\u001b[1;32m    453\u001b[0m \u001b[38;5;28;01mif\u001b[39;00m \u001b[38;5;28mself\u001b[39m\u001b[38;5;241m.\u001b[39m_state \u001b[38;5;129;01min\u001b[39;00m [CANCELLED, CANCELLED_AND_NOTIFIED]:\n\u001b[1;32m    454\u001b[0m     \u001b[38;5;28;01mraise\u001b[39;00m CancelledError()\n",
      "File \u001b[0;32m/opt/homebrew/Caskroom/miniconda/base/lib/python3.12/threading.py:355\u001b[0m, in \u001b[0;36mCondition.wait\u001b[0;34m(self, timeout)\u001b[0m\n\u001b[1;32m    353\u001b[0m \u001b[38;5;28;01mtry\u001b[39;00m:    \u001b[38;5;66;03m# restore state no matter what (e.g., KeyboardInterrupt)\u001b[39;00m\n\u001b[1;32m    354\u001b[0m     \u001b[38;5;28;01mif\u001b[39;00m timeout \u001b[38;5;129;01mis\u001b[39;00m \u001b[38;5;28;01mNone\u001b[39;00m:\n\u001b[0;32m--> 355\u001b[0m         \u001b[43mwaiter\u001b[49m\u001b[38;5;241;43m.\u001b[39;49m\u001b[43macquire\u001b[49m\u001b[43m(\u001b[49m\u001b[43m)\u001b[49m\n\u001b[1;32m    356\u001b[0m         gotit \u001b[38;5;241m=\u001b[39m \u001b[38;5;28;01mTrue\u001b[39;00m\n\u001b[1;32m    357\u001b[0m     \u001b[38;5;28;01melse\u001b[39;00m:\n",
      "\u001b[0;31mKeyboardInterrupt\u001b[0m: "
     ]
    }
   ],
   "source": [
    "# Fetch AnnData object based on specified genes, tissue and cell types\n",
    "adata = gget.cellxgene(\n",
    "    gene=[\"ACE2\", \"ABCA1\", \"SLC5A1\"], tissue=\"lung\", cell_type=[\"mucus secreting cell\", \"neuroendocrine cell\"]\n",
    ")\n",
    "\n",
    "adata\n",
    "\n",
    "import scanpy as sc\n",
    "sc.pl.dotplot(adata, adata.var[\"feature_name\"].values, groupby=\"cell_type\", gene_symbols=\"feature_name\")"
   ]
  }
 ],
 "metadata": {
  "kernelspec": {
   "display_name": "base",
   "language": "python",
   "name": "python3"
  },
  "language_info": {
   "codemirror_mode": {
    "name": "ipython",
    "version": 3
   },
   "file_extension": ".py",
   "mimetype": "text/x-python",
   "name": "python",
   "nbconvert_exporter": "python",
   "pygments_lexer": "ipython3",
   "version": "3.12.9"
  }
 },
 "nbformat": 4,
 "nbformat_minor": 2
}
