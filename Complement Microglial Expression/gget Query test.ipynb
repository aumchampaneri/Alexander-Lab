{
 "cells": [
  {
   "cell_type": "markdown",
   "metadata": {},
   "source": [
    "# Querying data using the gget cellxgene module\n",
    "\n",
    "gget is a free, open-source command-line tool and Python package that enables efficient querying of genomic databases. gget consists of a collection of separate but interoperable modules, each designed to facilitate one type of database querying in a single line of code."
   ]
  },
  {
   "cell_type": "code",
   "metadata": {
    "ExecuteTime": {
     "end_time": "2025-02-16T01:35:21.580604Z",
     "start_time": "2025-02-16T01:35:20.571902Z"
    }
   },
   "source": [
    "import gget\n",
    "gget.setup(\"cellxgene\")\n",
    "\n",
    "# Display all options of the cellxgene gget module\n",
    "help(gget.cellxgene)"
   ],
   "outputs": [
    {
     "name": "stderr",
     "output_type": "stream",
     "text": [
      "20:35:20 - INFO - Installing cellxgene-census package (requires pip).\n",
      "20:35:21 - INFO - cellxgene_census installed succesfully.\n"
     ]
    },
    {
     "name": "stdout",
     "output_type": "stream",
     "text": [
      "Help on function cellxgene in module gget.gget_cellxgene:\n",
      "\n",
      "cellxgene(species='homo_sapiens', gene=None, ensembl=False, column_names=['dataset_id', 'assay', 'suspension_type', 'sex', 'tissue_general', 'tissue', 'cell_type'], meta_only=False, tissue=None, cell_type=None, development_stage=None, disease=None, sex=None, is_primary_data=True, dataset_id=None, tissue_general_ontology_term_id=None, tissue_general=None, assay_ontology_term_id=None, assay=None, cell_type_ontology_term_id=None, development_stage_ontology_term_id=None, disease_ontology_term_id=None, donor_id=None, self_reported_ethnicity_ontology_term_id=None, self_reported_ethnicity=None, sex_ontology_term_id=None, suspension_type=None, tissue_ontology_term_id=None, census_version='stable', verbose=True, out=None)\n",
      "    Query data from CZ CELLxGENE Discover (https://cellxgene.cziscience.com/) using the\n",
      "    CZ CELLxGENE Discover Census (https://github.com/chanzuckerberg/cellxgene-census).\n",
      "\n",
      "    NOTE: Querying large datasets requires a large amount of RAM. Use the cell metadata attributes\n",
      "    to define the (sub)dataset of interest.\n",
      "    The CZ CELLxGENE Discover Census recommends >16 GB of memory and a >5 Mbps internet connection.\n",
      "\n",
      "    General args:\n",
      "        - species        Choice of 'homo_sapiens' or 'mus_musculus'. Default: 'homo_sapiens'.\n",
      "        - gene           Str or list of gene name(s) or Ensembl ID(s), e.g. ['ACE2', 'SLC5A1'] or ['ENSG00000130234', 'ENSG00000100170']. Default: None.\n",
      "                         NOTE: Set ensembl=True when providing Ensembl ID(s) instead of gene name(s).\n",
      "                         See https://cellxgene.cziscience.com/gene-expression for examples of available genes.\n",
      "        - ensembl        True/False (default: False). Set to True when genes are provided as Ensembl IDs.\n",
      "        - column_names   List of metadata columns to return (stored in AnnData.obs when meta_only=False).\n",
      "                         Default: [\"dataset_id\", \"assay\", \"suspension_type\", \"sex\", \"tissue_general\", \"tissue\", \"cell_type\"]\n",
      "                         For more options see: https://api.cellxgene.cziscience.com/curation/ui/#/ -> Schemas -> dataset\n",
      "        - meta_only      True/False (default: False). If True, returns only metadata dataframe (corresponds to AnnData.obs).\n",
      "        - census_version Str defining version of Census, e.g. \"2023-05-15\" or \"latest\" or \"stable\". Default: \"stable\".\n",
      "        - verbose        True/False whether to print progress information. Default True.\n",
      "        - out            If provided, saves the generated AnnData h5ad (or csv when meta_only=True) file with the specified path. Default: None.\n",
      "\n",
      "    Cell metadata attributes:\n",
      "        - tissue                          Str or list of tissue(s), e.g. ['lung', 'blood']. Default: None.\n",
      "                                          See https://cellxgene.cziscience.com/gene-expression for examples of available tissues.\n",
      "        - cell_type                       Str or list of celltype(s), e.g. ['mucus secreting cell', 'neuroendocrine cell']. Default: None.\n",
      "                                          See https://cellxgene.cziscience.com/gene-expression and select a tissue to see examples of available celltypes.\n",
      "        - development_stage               Str or list of development stage(s). Default: None.\n",
      "        - disease                         Str or list of disease(s). Default: None.\n",
      "        - sex                             Str or list of sex(es), e.g. 'female'. Default: None.\n",
      "        - is_primary_data                 True/False (default: True). If True, returns only the canonical instance of the cellular observation.\n",
      "                                          This is commonly set to False for meta-analyses reusing data or for secondary views of data.\n",
      "        - dataset_id                      Str or list of CELLxGENE dataset ID(s). Default: None.\n",
      "        - tissue_general_ontology_term_id Str or list of high-level tissue UBERON ID(s). Default: None.\n",
      "                                          Also see: https://github.com/chanzuckerberg/single-cell-data-portal/blob/9b94ccb0a2e0a8f6182b213aa4852c491f6f6aff/backend/wmg/data/tissue_mapper.py\n",
      "        - tissue_general                  Str or list of high-level tissue label(s). Default: None.\n",
      "                                          Also see: https://github.com/chanzuckerberg/single-cell-data-portal/blob/9b94ccb0a2e0a8f6182b213aa4852c491f6f6aff/backend/wmg/data/tissue_mapper.py\n",
      "        - tissue_ontology_term_id         Str or list of tissue ontology term ID(s) as defined in the CELLxGENE dataset schema. Default: None.\n",
      "        - assay_ontology_term_id          Str or list of assay ontology term ID(s) as defined in the CELLxGENE dataset schema. Default: None.\n",
      "        - assay                           Str or list of assay(s) as defined in the CELLxGENE dataset schema. Default: None.\n",
      "        - cell_type_ontology_term_id      Str or list of celltype ontology term ID(s) as defined in the CELLxGENE dataset schema. Default: None.\n",
      "        - development_stage_ontology_term_id        Str or list of development stage ontology term ID(s) as defined in the CELLxGENE dataset schema. Default: None.\n",
      "        - disease_ontology_term_id        Str or list of disease ontology term ID(s) as defined in the CELLxGENE dataset schema. Default: None.\n",
      "        - donor_id                        Str or list of donor ID(s) as defined in the CELLxGENE dataset schema. Default: None.\n",
      "        - self_reported_ethnicity_ontology_term_id  Str or list of self reported ethnicity ontology ID(s) as defined in the CELLxGENE dataset schema. Default: None.\n",
      "        - self_reported_ethnicity         Str or list of self reported ethnicity as defined in the CELLxGENE dataset schema. Default: None.\n",
      "        - sex_ontology_term_id            Str or list of sex ontology ID(s) as defined in the CELLxGENE dataset schema. Default: None.\n",
      "        - suspension_type                 Str or list of suspension type(s) as defined in the CELLxGENE dataset schema. Default: None.\n",
      "\n",
      "    Returns AnnData object (when meta_only=False) or dataframe (when meta_only=True).\n",
      "\n"
     ]
    }
   ],
   "execution_count": 75
  },
  {
   "metadata": {},
   "cell_type": "markdown",
   "source": "# Fetch an AnnData object by selecting gene(s), tissue(s) and cell type(s)"
  },
  {
   "metadata": {
    "ExecuteTime": {
     "end_time": "2025-02-16T01:36:25.355030Z",
     "start_time": "2025-02-16T01:35:21.594178Z"
    }
   },
   "cell_type": "code",
   "source": [
    "adata_homo = gget.cellxgene(\n",
    "    meta_only=False,\n",
    "    ensembl=False,  # Setting 'ensembl=True' here since the gene is passed as an Ensembl ID\n",
    "    # collection_id=\"\",\n",
    "    # dataset_id = \"700aed19-c16e-4ba8-9191-07da098a8626\",\n",
    "    # gene=[\"ENSG00000197405\",\"ENSG00000171860\",\"ENSG00000000971\"],\n",
    "    species=\"homo_sapiens\",\n",
    "    disease=\"normal\",\n",
    "    suspension_type=\"cell\",\n",
    "    # assay=[\"10x 3' v3\"],\n",
    "    tissue=\"brain\",\n",
    "    cell_type=\"microglial cell\",\n",
    "    gene=[\"CFH\", \"C5AR1\", \"C3AR1\"],\n",
    ")\n",
    "\n",
    "adata_homo"
   ],
   "outputs": [
    {
     "name": "stderr",
     "output_type": "stream",
     "text": [
      "20:35:21 - INFO - Fetching AnnData object from CZ CELLxGENE Discover. This might take a few minutes...\n",
      "The \"stable\" release is currently 2025-01-30. Specify 'census_version=\"2025-01-30\"' in future calls to open_soma() to ensure data consistency.\n",
      "/Users/aumchampaneri/.pyenv/versions/miniconda3-latest/lib/python3.12/site-packages/gget/gget_cellxgene.py:189: FutureWarning: The argument `column_names` is deprecated and will be removed in a future release. Please use `obs_column_names` and `var_column_names` instead.\n",
      "  adata = cellxgene_census.get_anndata(\n"
     ]
    },
    {
     "data": {
      "text/plain": [
       "AnnData object with n_obs × n_vars = 128 × 3\n",
       "    obs: 'dataset_id', 'assay', 'suspension_type', 'sex', 'tissue_general', 'tissue', 'cell_type', 'is_primary_data', 'disease'\n",
       "    var: 'soma_joinid', 'feature_id', 'feature_name', 'feature_type', 'feature_length', 'nnz', 'n_measured_obs'"
      ]
     },
     "execution_count": 76,
     "metadata": {},
     "output_type": "execute_result"
    }
   ],
   "execution_count": 76
  },
  {
   "metadata": {
    "ExecuteTime": {
     "end_time": "2025-02-16T01:57:27.833812Z",
     "start_time": "2025-02-16T01:57:27.819016Z"
    }
   },
   "cell_type": "code",
   "source": "adata_homo.var",
   "outputs": [
    {
     "data": {
      "text/plain": [
       "   soma_joinid       feature_id feature_name    feature_type  feature_length  \\\n",
       "0         1062  ENSG00000000971          CFH  protein_coding            3057   \n",
       "1         7759  ENSG00000171860        C3AR1  protein_coding            2000   \n",
       "2        11952  ENSG00000197405        C5AR1  protein_coding             781   \n",
       "\n",
       "       nnz  n_measured_obs       species  \n",
       "0  6810172       105893241  homo_sapiens  \n",
       "1  4295412       105910908  homo_sapiens  \n",
       "2  8688032       105817790  homo_sapiens  "
      ],
      "text/html": [
       "<div>\n",
       "<style scoped>\n",
       "    .dataframe tbody tr th:only-of-type {\n",
       "        vertical-align: middle;\n",
       "    }\n",
       "\n",
       "    .dataframe tbody tr th {\n",
       "        vertical-align: top;\n",
       "    }\n",
       "\n",
       "    .dataframe thead th {\n",
       "        text-align: right;\n",
       "    }\n",
       "</style>\n",
       "<table border=\"1\" class=\"dataframe\">\n",
       "  <thead>\n",
       "    <tr style=\"text-align: right;\">\n",
       "      <th></th>\n",
       "      <th>soma_joinid</th>\n",
       "      <th>feature_id</th>\n",
       "      <th>feature_name</th>\n",
       "      <th>feature_type</th>\n",
       "      <th>feature_length</th>\n",
       "      <th>nnz</th>\n",
       "      <th>n_measured_obs</th>\n",
       "      <th>species</th>\n",
       "    </tr>\n",
       "  </thead>\n",
       "  <tbody>\n",
       "    <tr>\n",
       "      <th>0</th>\n",
       "      <td>1062</td>\n",
       "      <td>ENSG00000000971</td>\n",
       "      <td>CFH</td>\n",
       "      <td>protein_coding</td>\n",
       "      <td>3057</td>\n",
       "      <td>6810172</td>\n",
       "      <td>105893241</td>\n",
       "      <td>homo_sapiens</td>\n",
       "    </tr>\n",
       "    <tr>\n",
       "      <th>1</th>\n",
       "      <td>7759</td>\n",
       "      <td>ENSG00000171860</td>\n",
       "      <td>C3AR1</td>\n",
       "      <td>protein_coding</td>\n",
       "      <td>2000</td>\n",
       "      <td>4295412</td>\n",
       "      <td>105910908</td>\n",
       "      <td>homo_sapiens</td>\n",
       "    </tr>\n",
       "    <tr>\n",
       "      <th>2</th>\n",
       "      <td>11952</td>\n",
       "      <td>ENSG00000197405</td>\n",
       "      <td>C5AR1</td>\n",
       "      <td>protein_coding</td>\n",
       "      <td>781</td>\n",
       "      <td>8688032</td>\n",
       "      <td>105817790</td>\n",
       "      <td>homo_sapiens</td>\n",
       "    </tr>\n",
       "  </tbody>\n",
       "</table>\n",
       "</div>"
      ]
     },
     "execution_count": 131,
     "metadata": {},
     "output_type": "execute_result"
    }
   ],
   "execution_count": 131
  },
  {
   "metadata": {
    "ExecuteTime": {
     "end_time": "2025-02-16T01:37:57.610359Z",
     "start_time": "2025-02-16T01:36:25.942637Z"
    }
   },
   "cell_type": "code",
   "source": [
    "adata_mus = gget.cellxgene(\n",
    "    meta_only=False,\n",
    "    ensembl=False,  # Setting 'ensembl=True' here since the gene is passed as an Ensembl ID\n",
    "    # collection_id=\"\",\n",
    "    # dataset_id = \"700aed19-c16e-4ba8-9191-07da098a8626\",\n",
    "    # gene=[\"ENSG00000197405\",\"ENSG00000171860\",\"ENSG00000000971\"],\n",
    "    # assay=[\"10x 3' v3\"],\n",
    "    species=\"mus_musculus\",  # Let's switch up the species\n",
    "    disease=\"normal\",\n",
    "    suspension_type=\"cell\",\n",
    "    # assay=[\"10x 3' v3\"],\n",
    "    tissue=\"brain\",\n",
    "    cell_type=\"microglial cell\",\n",
    "    gene=[\"Cfh\", \"C5ar1\", \"C3ar1\"],\n",
    ")\n",
    "\n",
    "adata_mus"
   ],
   "outputs": [
    {
     "name": "stderr",
     "output_type": "stream",
     "text": [
      "20:36:25 - INFO - Fetching AnnData object from CZ CELLxGENE Discover. This might take a few minutes...\n",
      "The \"stable\" release is currently 2025-01-30. Specify 'census_version=\"2025-01-30\"' in future calls to open_soma() to ensure data consistency.\n",
      "/Users/aumchampaneri/.pyenv/versions/miniconda3-latest/lib/python3.12/site-packages/gget/gget_cellxgene.py:189: FutureWarning: The argument `column_names` is deprecated and will be removed in a future release. Please use `obs_column_names` and `var_column_names` instead.\n",
      "  adata = cellxgene_census.get_anndata(\n"
     ]
    },
    {
     "data": {
      "text/plain": [
       "AnnData object with n_obs × n_vars = 13268 × 3\n",
       "    obs: 'dataset_id', 'assay', 'suspension_type', 'sex', 'tissue_general', 'tissue', 'cell_type', 'is_primary_data', 'disease'\n",
       "    var: 'soma_joinid', 'feature_id', 'feature_name', 'feature_type', 'feature_length', 'nnz', 'n_measured_obs'"
      ]
     },
     "execution_count": 78,
     "metadata": {},
     "output_type": "execute_result"
    }
   ],
   "execution_count": 78
  },
  {
   "metadata": {},
   "cell_type": "markdown",
   "source": "# Convert mus_musculus 'feature_name' entries to match homo_sapiens"
  },
  {
   "metadata": {
    "ExecuteTime": {
     "end_time": "2025-02-16T01:53:56.748677Z",
     "start_time": "2025-02-16T01:53:56.722357Z"
    }
   },
   "cell_type": "code",
   "source": [
    "import anndata as ad\n",
    "import pandas as pd\n",
    "\n",
    "# Convert AnnData object to DataFrame\n",
    "df_var = adata_mus.var.copy()\n",
    "df_obs = adata_mus.obs.copy()\n",
    "df_X = pd.DataFrame(adata_mus.X.toarray(), index=adata_mus.obs.index, columns=adata_mus.var.index)\n",
    "\n",
    "# Modify the feature_name entries to uppercase\n",
    "df_var['feature_name'] = df_var['feature_name'].str.upper()\n",
    "\n",
    "# Convert the DataFrame back to an AnnData object\n",
    "adata_mus = ad.AnnData(X=df_X.values, var=df_var, obs=df_obs)\n",
    "\n",
    "# Verify the changes\n",
    "adata_mus.var"
   ],
   "outputs": [
    {
     "data": {
      "text/plain": [
       "   soma_joinid          feature_id feature_name    feature_type  \\\n",
       "0         1029  ENSMUSG00000040552        C3AR1  protein_coding   \n",
       "1        13238  ENSMUSG00000049130        C5AR1  protein_coding   \n",
       "2        15169  ENSMUSG00000026365          CFH  protein_coding   \n",
       "\n",
       "   feature_length      nnz  n_measured_obs  \n",
       "0            4305   317588        42636109  \n",
       "1            2481   422091        42757016  \n",
       "2            3923  2085471        42776863  "
      ],
      "text/html": [
       "<div>\n",
       "<style scoped>\n",
       "    .dataframe tbody tr th:only-of-type {\n",
       "        vertical-align: middle;\n",
       "    }\n",
       "\n",
       "    .dataframe tbody tr th {\n",
       "        vertical-align: top;\n",
       "    }\n",
       "\n",
       "    .dataframe thead th {\n",
       "        text-align: right;\n",
       "    }\n",
       "</style>\n",
       "<table border=\"1\" class=\"dataframe\">\n",
       "  <thead>\n",
       "    <tr style=\"text-align: right;\">\n",
       "      <th></th>\n",
       "      <th>soma_joinid</th>\n",
       "      <th>feature_id</th>\n",
       "      <th>feature_name</th>\n",
       "      <th>feature_type</th>\n",
       "      <th>feature_length</th>\n",
       "      <th>nnz</th>\n",
       "      <th>n_measured_obs</th>\n",
       "    </tr>\n",
       "  </thead>\n",
       "  <tbody>\n",
       "    <tr>\n",
       "      <th>0</th>\n",
       "      <td>1029</td>\n",
       "      <td>ENSMUSG00000040552</td>\n",
       "      <td>C3AR1</td>\n",
       "      <td>protein_coding</td>\n",
       "      <td>4305</td>\n",
       "      <td>317588</td>\n",
       "      <td>42636109</td>\n",
       "    </tr>\n",
       "    <tr>\n",
       "      <th>1</th>\n",
       "      <td>13238</td>\n",
       "      <td>ENSMUSG00000049130</td>\n",
       "      <td>C5AR1</td>\n",
       "      <td>protein_coding</td>\n",
       "      <td>2481</td>\n",
       "      <td>422091</td>\n",
       "      <td>42757016</td>\n",
       "    </tr>\n",
       "    <tr>\n",
       "      <th>2</th>\n",
       "      <td>15169</td>\n",
       "      <td>ENSMUSG00000026365</td>\n",
       "      <td>CFH</td>\n",
       "      <td>protein_coding</td>\n",
       "      <td>3923</td>\n",
       "      <td>2085471</td>\n",
       "      <td>42776863</td>\n",
       "    </tr>\n",
       "  </tbody>\n",
       "</table>\n",
       "</div>"
      ]
     },
     "execution_count": 126,
     "metadata": {},
     "output_type": "execute_result"
    }
   ],
   "execution_count": 126
  },
  {
   "metadata": {},
   "cell_type": "markdown",
   "source": "# Add column for species"
  },
  {
   "metadata": {
    "ExecuteTime": {
     "end_time": "2025-02-16T01:54:03.873973Z",
     "start_time": "2025-02-16T01:54:03.854242Z"
    }
   },
   "cell_type": "code",
   "source": [
    "# Add column for species\n",
    "adata_homo.var['species'] = \"homo_sapiens\"\n",
    "adata_homo.obs['species'] = \"homo_sapiens\"\n",
    "adata_mus.var['species'] = \"mus_musculus\"\n",
    "adata_mus.obs['species'] = \"mus_musculus\""
   ],
   "outputs": [],
   "execution_count": 127
  },
  {
   "metadata": {},
   "cell_type": "markdown",
   "source": "# Combine adata_homo and adata_mus"
  },
  {
   "metadata": {
    "ExecuteTime": {
     "end_time": "2025-02-16T01:59:45.753919Z",
     "start_time": "2025-02-16T01:59:45.725254Z"
    }
   },
   "cell_type": "code",
   "source": "",
   "outputs": [
    {
     "name": "stdout",
     "output_type": "stream",
     "text": [
      "adata_homo.var:\n",
      "   soma_joinid       feature_id feature_name    feature_type  feature_length  \\\n",
      "0         1062  ENSG00000000971          CFH  protein_coding            3057   \n",
      "1         7759  ENSG00000171860        C3AR1  protein_coding            2000   \n",
      "2        11952  ENSG00000197405        C5AR1  protein_coding             781   \n",
      "\n",
      "       nnz  n_measured_obs       species  \n",
      "0  6810172       105893241  homo_sapiens  \n",
      "1  4295412       105910908  homo_sapiens  \n",
      "2  8688032       105817790  homo_sapiens  \n",
      "adata_mus.var:\n",
      "   soma_joinid          feature_id feature_name    feature_type  \\\n",
      "0         1029  ENSMUSG00000040552        C3AR1  protein_coding   \n",
      "1        13238  ENSMUSG00000049130        C5AR1  protein_coding   \n",
      "2        15169  ENSMUSG00000026365          CFH  protein_coding   \n",
      "\n",
      "   feature_length      nnz  n_measured_obs       species  \n",
      "0            4305   317588        42636109  mus_musculus  \n",
      "1            2481   422091        42757016  mus_musculus  \n",
      "2            3923  2085471        42776863  mus_musculus  \n",
      "adata_homo.var.index:\n",
      "Index(['0', '1', '2'], dtype='object')\n",
      "adata_mus.var.index:\n",
      "Index(['0', '1', '2'], dtype='object')\n",
      "adata_combined.var:\n"
     ]
    },
    {
     "data": {
      "text/plain": [
       "Empty DataFrame\n",
       "Columns: []\n",
       "Index: [0, 1, 2]"
      ],
      "text/html": [
       "<div>\n",
       "<style scoped>\n",
       "    .dataframe tbody tr th:only-of-type {\n",
       "        vertical-align: middle;\n",
       "    }\n",
       "\n",
       "    .dataframe tbody tr th {\n",
       "        vertical-align: top;\n",
       "    }\n",
       "\n",
       "    .dataframe thead th {\n",
       "        text-align: right;\n",
       "    }\n",
       "</style>\n",
       "<table border=\"1\" class=\"dataframe\">\n",
       "  <thead>\n",
       "    <tr style=\"text-align: right;\">\n",
       "      <th></th>\n",
       "    </tr>\n",
       "  </thead>\n",
       "  <tbody>\n",
       "    <tr>\n",
       "      <th>0</th>\n",
       "    </tr>\n",
       "    <tr>\n",
       "      <th>1</th>\n",
       "    </tr>\n",
       "    <tr>\n",
       "      <th>2</th>\n",
       "    </tr>\n",
       "  </tbody>\n",
       "</table>\n",
       "</div>"
      ]
     },
     "execution_count": 138,
     "metadata": {},
     "output_type": "execute_result"
    }
   ],
   "execution_count": 138
  }
 ],
 "metadata": {
  "kernelspec": {
   "display_name": "Python 3 (ipykernel)",
   "language": "python",
   "name": "python3"
  },
  "language_info": {
   "codemirror_mode": {
    "name": "ipython",
    "version": 3
   },
   "file_extension": ".py",
   "mimetype": "text/x-python",
   "name": "python",
   "nbconvert_exporter": "python",
   "pygments_lexer": "ipython3",
   "version": "3.12.9"
  }
 },
 "nbformat": 4,
 "nbformat_minor": 2
}
