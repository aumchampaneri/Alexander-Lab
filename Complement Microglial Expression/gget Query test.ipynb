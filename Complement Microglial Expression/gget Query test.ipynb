{
 "cells": [
  {
   "cell_type": "markdown",
   "metadata": {},
   "source": [
    "# Querying data using the gget cellxgene module\n",
    "\n",
    "gget is a free, open-source command-line tool and Python package that enables efficient querying of genomic databases. gget consists of a collection of separate but interoperable modules, each designed to facilitate one type of database querying in a single line of code."
   ]
  },
  {
   "cell_type": "code",
   "execution_count": 2,
   "metadata": {},
   "outputs": [
    {
     "name": "stderr",
     "output_type": "stream",
     "text": [
      "23:10:32 - INFO - Installing cellxgene-census package (requires pip).\n"
     ]
    },
    {
     "name": "stderr",
     "output_type": "stream",
     "text": [
      "23:10:33 - INFO - cellxgene_census installed succesfully.\n"
     ]
    },
    {
     "name": "stdout",
     "output_type": "stream",
     "text": [
      "Help on function cellxgene in module gget.gget_cellxgene:\n",
      "\n",
      "cellxgene(species='homo_sapiens', gene=None, ensembl=False, column_names=['dataset_id', 'assay', 'suspension_type', 'sex', 'tissue_general', 'tissue', 'cell_type'], meta_only=False, tissue=None, cell_type=None, development_stage=None, disease=None, sex=None, is_primary_data=True, dataset_id=None, tissue_general_ontology_term_id=None, tissue_general=None, assay_ontology_term_id=None, assay=None, cell_type_ontology_term_id=None, development_stage_ontology_term_id=None, disease_ontology_term_id=None, donor_id=None, self_reported_ethnicity_ontology_term_id=None, self_reported_ethnicity=None, sex_ontology_term_id=None, suspension_type=None, tissue_ontology_term_id=None, census_version='stable', verbose=True, out=None)\n",
      "    Query data from CZ CELLxGENE Discover (https://cellxgene.cziscience.com/) using the\n",
      "    CZ CELLxGENE Discover Census (https://github.com/chanzuckerberg/cellxgene-census).\n",
      "\n",
      "    NOTE: Querying large datasets requires a large amount of RAM. Use the cell metadata attributes\n",
      "    to define the (sub)dataset of interest.\n",
      "    The CZ CELLxGENE Discover Census recommends >16 GB of memory and a >5 Mbps internet connection.\n",
      "\n",
      "    General args:\n",
      "        - species        Choice of 'homo_sapiens' or 'mus_musculus'. Default: 'homo_sapiens'.\n",
      "        - gene           Str or list of gene name(s) or Ensembl ID(s), e.g. ['ACE2', 'SLC5A1'] or ['ENSG00000130234', 'ENSG00000100170']. Default: None.\n",
      "                         NOTE: Set ensembl=True when providing Ensembl ID(s) instead of gene name(s).\n",
      "                         See https://cellxgene.cziscience.com/gene-expression for examples of available genes.\n",
      "        - ensembl        True/False (default: False). Set to True when genes are provided as Ensembl IDs.\n",
      "        - column_names   List of metadata columns to return (stored in AnnData.obs when meta_only=False).\n",
      "                         Default: [\"dataset_id\", \"assay\", \"suspension_type\", \"sex\", \"tissue_general\", \"tissue\", \"cell_type\"]\n",
      "                         For more options see: https://api.cellxgene.cziscience.com/curation/ui/#/ -> Schemas -> dataset\n",
      "        - meta_only      True/False (default: False). If True, returns only metadata dataframe (corresponds to AnnData.obs).\n",
      "        - census_version Str defining version of Census, e.g. \"2023-05-15\" or \"latest\" or \"stable\". Default: \"stable\".\n",
      "        - verbose        True/False whether to print progress information. Default True.\n",
      "        - out            If provided, saves the generated AnnData h5ad (or csv when meta_only=True) file with the specified path. Default: None.\n",
      "\n",
      "    Cell metadata attributes:\n",
      "        - tissue                          Str or list of tissue(s), e.g. ['lung', 'blood']. Default: None.\n",
      "                                          See https://cellxgene.cziscience.com/gene-expression for examples of available tissues.\n",
      "        - cell_type                       Str or list of celltype(s), e.g. ['mucus secreting cell', 'neuroendocrine cell']. Default: None.\n",
      "                                          See https://cellxgene.cziscience.com/gene-expression and select a tissue to see examples of available celltypes.\n",
      "        - development_stage               Str or list of development stage(s). Default: None.\n",
      "        - disease                         Str or list of disease(s). Default: None.\n",
      "        - sex                             Str or list of sex(es), e.g. 'female'. Default: None.\n",
      "        - is_primary_data                 True/False (default: True). If True, returns only the canonical instance of the cellular observation.\n",
      "                                          This is commonly set to False for meta-analyses reusing data or for secondary views of data.\n",
      "        - dataset_id                      Str or list of CELLxGENE dataset ID(s). Default: None.\n",
      "        - tissue_general_ontology_term_id Str or list of high-level tissue UBERON ID(s). Default: None.\n",
      "                                          Also see: https://github.com/chanzuckerberg/single-cell-data-portal/blob/9b94ccb0a2e0a8f6182b213aa4852c491f6f6aff/backend/wmg/data/tissue_mapper.py\n",
      "        - tissue_general                  Str or list of high-level tissue label(s). Default: None.\n",
      "                                          Also see: https://github.com/chanzuckerberg/single-cell-data-portal/blob/9b94ccb0a2e0a8f6182b213aa4852c491f6f6aff/backend/wmg/data/tissue_mapper.py\n",
      "        - tissue_ontology_term_id         Str or list of tissue ontology term ID(s) as defined in the CELLxGENE dataset schema. Default: None.\n",
      "        - assay_ontology_term_id          Str or list of assay ontology term ID(s) as defined in the CELLxGENE dataset schema. Default: None.\n",
      "        - assay                           Str or list of assay(s) as defined in the CELLxGENE dataset schema. Default: None.\n",
      "        - cell_type_ontology_term_id      Str or list of celltype ontology term ID(s) as defined in the CELLxGENE dataset schema. Default: None.\n",
      "        - development_stage_ontology_term_id        Str or list of development stage ontology term ID(s) as defined in the CELLxGENE dataset schema. Default: None.\n",
      "        - disease_ontology_term_id        Str or list of disease ontology term ID(s) as defined in the CELLxGENE dataset schema. Default: None.\n",
      "        - donor_id                        Str or list of donor ID(s) as defined in the CELLxGENE dataset schema. Default: None.\n",
      "        - self_reported_ethnicity_ontology_term_id  Str or list of self reported ethnicity ontology ID(s) as defined in the CELLxGENE dataset schema. Default: None.\n",
      "        - self_reported_ethnicity         Str or list of self reported ethnicity as defined in the CELLxGENE dataset schema. Default: None.\n",
      "        - sex_ontology_term_id            Str or list of sex ontology ID(s) as defined in the CELLxGENE dataset schema. Default: None.\n",
      "        - suspension_type                 Str or list of suspension type(s) as defined in the CELLxGENE dataset schema. Default: None.\n",
      "\n",
      "    Returns AnnData object (when meta_only=False) or dataframe (when meta_only=True).\n",
      "\n"
     ]
    }
   ],
   "source": [
    "import gget\n",
    "gget.setup(\"cellxgene\")\n",
    "\n",
    "# Display all options of the cellxgene gget module\n",
    "help(gget.cellxgene)"
   ]
  },
  {
   "cell_type": "markdown",
   "metadata": {},
   "source": [
    "# Fetch an AnnData object by selecting gene(s), tissue(s) and cell type(s)"
   ]
  },
  {
   "cell_type": "code",
   "execution_count": 6,
   "metadata": {},
   "outputs": [
    {
     "name": "stderr",
     "output_type": "stream",
     "text": [
      "23:18:53 - INFO - Fetching AnnData object from CZ CELLxGENE Discover. This might take a few minutes...\n",
      "The \"stable\" release is currently 2025-01-30. Specify 'census_version=\"2025-01-30\"' in future calls to open_soma() to ensure data consistency.\n",
      "/opt/homebrew/Caskroom/miniconda/base/lib/python3.12/site-packages/gget/gget_cellxgene.py:189: FutureWarning: The argument `column_names` is deprecated and will be removed in a future release. Please use `obs_column_names` and `var_column_names` instead.\n",
      "  adata = cellxgene_census.get_anndata(\n"
     ]
    },
    {
     "data": {
      "text/plain": [
       "AnnData object with n_obs × n_vars = 0 × 3\n",
       "    obs: 'dataset_id', 'assay', 'suspension_type', 'sex', 'tissue_general', 'tissue', 'cell_type', 'is_primary_data'\n",
       "    var: 'soma_joinid', 'feature_id', 'feature_name', 'feature_type', 'feature_length', 'nnz', 'n_measured_obs'"
      ]
     },
     "execution_count": 6,
     "metadata": {},
     "output_type": "execute_result"
    }
   ],
   "source": [
    "# Filter to only include the Microglia Supercluster by the dataset id == 700aed19-c16e-4ba8-9191-07da098a8626\n",
    "adata = gget.cellxgene(\n",
    "    dataset_id = \"700aed19-c16e-4ba8-9191-07da098a8626\",\n",
    "    gene = [\"C5AR1\", \"C3AR1\", \"CFH\"]\n",
    ")\n",
    "\n",
    "adata"
   ]
  }
 ],
 "metadata": {
  "kernelspec": {
   "display_name": "base",
   "language": "python",
   "name": "python3"
  },
  "language_info": {
   "codemirror_mode": {
    "name": "ipython",
    "version": 3
   },
   "file_extension": ".py",
   "mimetype": "text/x-python",
   "name": "python",
   "nbconvert_exporter": "python",
   "pygments_lexer": "ipython3",
   "version": "3.12.9"
  }
 },
 "nbformat": 4,
 "nbformat_minor": 2
}
