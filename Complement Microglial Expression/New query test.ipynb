{
 "cells": [
  {
   "metadata": {
    "ExecuteTime": {
     "end_time": "2025-02-17T00:17:00.811559Z",
     "start_time": "2025-02-17T00:16:52.402441Z"
    }
   },
   "cell_type": "code",
   "source": [
    "import cellxgene_census\n",
    "\n",
    "census = cellxgene_census.open_soma()\n",
    "census_datasets = census[\"census_info\"][\"datasets\"].read().concat().to_pandas()\n",
    "\n",
    "# for convenience, indexing on the soma_joinid which links this to other census data.\n",
    "census_datasets = census_datasets.set_index(\"soma_joinid\")\n",
    "\n",
    "# census_datasets"
   ],
   "id": "19584027e77b65e8",
   "outputs": [
    {
     "name": "stderr",
     "output_type": "stream",
     "text": [
      "The \"stable\" release is currently 2025-01-30. Specify 'census_version=\"2025-01-30\"' in future calls to open_soma() to ensure data consistency.\n"
     ]
    }
   ],
   "execution_count": 6
  },
  {
   "metadata": {
    "ExecuteTime": {
     "end_time": "2025-02-17T00:14:56.527046Z",
     "start_time": "2025-02-17T00:14:16.904830Z"
    }
   },
   "cell_type": "code",
   "outputs": [
    {
     "name": "stderr",
     "output_type": "stream",
     "text": [
      "Downloading: 100%|██████████| 345M/345M [00:29<00:00, 12.2MB/s] \n"
     ]
    }
   ],
   "execution_count": 5,
   "source": [
    "census_datasets[census_datasets.dataset_id == \"700aed19-c16e-4ba8-9191-07da098a8626\"]\n",
    "cellxgene_census.download_source_h5ad(\n",
    "    \"700aed19-c16e-4ba8-9191-07da098a8626\", to_path=\"Microglia_Supercluster.h5ad\"\n",
    ")\n",
    "census.close()"
   ],
   "id": "e9564fd0e7efe591"
  },
  {
   "metadata": {
    "ExecuteTime": {
     "end_time": "2025-02-17T00:27:52.595571Z",
     "start_time": "2025-02-17T00:27:48.579237Z"
    }
   },
   "cell_type": "code",
   "source": [
    "import os\n",
    "\n",
    "cwd = os.getcwd()  # Get the current working directory (cwd)\n",
    "files = os.listdir(cwd)  # Get all the files in that directory\n",
    "print(\"Files in %r: %s\" % (cwd, files))\n",
    "\n",
    "import scanpy as sc\n",
    "\n",
    "adata = sc.read_h5ad('/Users/aumchampaneri/PycharmProjects/Alexander-Lab/Complement Microglial Expression/Microglia_Supercluster.h5ad')"
   ],
   "id": "ffc3720b01ad6c48",
   "outputs": [
    {
     "name": "stdout",
     "output_type": "stream",
     "text": [
      "Files in '/Users/aumchampaneri/PycharmProjects/Alexander-Lab/Complement Microglial Expression': ['.DS_Store', 'New query test.ipynb', 'Microglial Genes Total.ipynb', 'gget Query test.ipynb', 'Microglia_Supercluster.h5ad']\n"
     ]
    }
   ],
   "execution_count": 27
  },
  {
   "metadata": {
    "ExecuteTime": {
     "end_time": "2025-02-17T00:28:06.677602Z",
     "start_time": "2025-02-17T00:28:06.665560Z"
    }
   },
   "cell_type": "code",
   "source": "print(adata)",
   "id": "a478ae07d7946ebf",
   "outputs": [
    {
     "name": "stdout",
     "output_type": "stream",
     "text": [
      "AnnData object with n_obs × n_vars = 91838 × 59236\n",
      "    obs: 'roi', 'organism_ontology_term_id', 'disease_ontology_term_id', 'self_reported_ethnicity_ontology_term_id', 'assay_ontology_term_id', 'sex_ontology_term_id', 'development_stage_ontology_term_id', 'donor_id', 'suspension_type', 'dissection', 'fraction_mitochondrial', 'fraction_unspliced', 'cell_cycle_score', 'total_genes', 'total_UMIs', 'sample_id', 'supercluster_term', 'cluster_id', 'subcluster_id', 'cell_type_ontology_term_id', 'tissue_ontology_term_id', 'is_primary_data', 'tissue_type', 'cell_type', 'assay', 'disease', 'organism', 'sex', 'tissue', 'self_reported_ethnicity', 'development_stage', 'observation_joinid'\n",
      "    var: 'Biotype', 'Chromosome', 'End', 'Gene', 'Start', 'feature_is_filtered', 'feature_name', 'feature_reference', 'feature_biotype', 'feature_length', 'feature_type'\n",
      "    uns: 'batch_condition', 'citation', 'schema_reference', 'schema_version', 'title'\n",
      "    obsm: 'X_UMAP', 'X_tSNE'\n"
     ]
    }
   ],
   "execution_count": 28
  }
 ],
 "metadata": {
  "kernelspec": {
   "display_name": "Python 3",
   "language": "python",
   "name": "python3"
  },
  "language_info": {
   "codemirror_mode": {
    "name": "ipython",
    "version": 2
   },
   "file_extension": ".py",
   "mimetype": "text/x-python",
   "name": "python",
   "nbconvert_exporter": "python",
   "pygments_lexer": "ipython2",
   "version": "2.7.6"
  }
 },
 "nbformat": 4,
 "nbformat_minor": 5
}
