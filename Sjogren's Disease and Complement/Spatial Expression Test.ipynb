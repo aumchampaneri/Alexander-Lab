{
 "cells": [
  {
   "cell_type": "markdown",
   "metadata": {},
   "source": [
    "# Pre-Requisites\n",
    "\n",
    "Load neccesary packages/libraries and print versions for reference.\n",
    "\n",
    "Reference: Python 3.12.7 - miniconda3"
   ]
  },
  {
   "cell_type": "code",
   "execution_count": null,
   "metadata": {},
   "outputs": [
    {
     "name": "stderr",
     "output_type": "stream",
     "text": [
      "/Users/aumchampaneri/.pyenv/versions/miniconda3-latest/lib/python3.12/site-packages/dask/dataframe/__init__.py:31: FutureWarning: The legacy Dask DataFrame implementation is deprecated and will be removed in a future version. Set the configuration option `dataframe.query-planning` to `True` or None to enable the new Dask Dataframe implementation and silence this warning.\n",
      "  warnings.warn(\n"
     ]
    },
    {
     "name": "stdout",
     "output_type": "stream",
     "text": [
      "cellxgene_census 1.16.2\n",
      "tiledbsoma 1.15.6\n",
      "spatialdata 0.3.0\n",
      "spatialdata plot 0.2.9\n"
     ]
    }
   ],
   "source": [
    "# Packages and Libraries\n",
    "import cellxgene_census\n",
    "import tiledbsoma\n",
    "import spatialdata as sd\n",
    "import spatialdata_plot\n",
    "\n",
    "import warnings\n",
    "warnings.filterwarnings(\"ignore\")\n",
    "\n",
    "# Versions of required libraries\n",
    "print(\"cellxgene_census\",cellxgene_census.__version__)\n",
    "print(\"tiledbsoma\", tiledbsoma.__version__)\n",
    "print(\"spatialdata\", sd.__version__)\n",
    "print(\"spatialdata plot\", spatialdata_plot.__version__)"
   ]
  },
  {
   "cell_type": "markdown",
   "metadata": {},
   "source": [
    "# Spatial Data Export\n",
    "\n",
    "Query the human experiment in census enabling visualization and analysis.\n",
    "\n",
    "Perform the query using tiledbsoma instead of cellxgene_census"
   ]
  },
  {
   "cell_type": "code",
   "execution_count": null,
   "metadata": {},
   "outputs": [],
   "source": [
    "# Export to spatial data\n",
    "\n",
    "census = cellxgene_census.open_soma(census_version=\"2025-01-30\")\n",
    "\n",
    "export = census[\"census_spatial_sequencing\"][\"homo_sapiens\"]\n",
    "\n",
    "#tiledbsoma export query\n",
    "\n",
    "with export.axis.query(\n",
    "    measurement_name=\"RNA\",\n",
    "    obs_query=tiledbsoma.AxisQuery(value_filter=\"dataset_id == ' \") # Queries specific dataset\n",
    ")\n",
    "\n",
    "as query:\n",
    "    sdata = query.to_spatialdata(X_name=\"raw\")\n",
    "\n",
    "sdata"
   ]
  }
 ],
 "metadata": {
  "language_info": {
   "name": "python"
  }
 },
 "nbformat": 4,
 "nbformat_minor": 2
}
