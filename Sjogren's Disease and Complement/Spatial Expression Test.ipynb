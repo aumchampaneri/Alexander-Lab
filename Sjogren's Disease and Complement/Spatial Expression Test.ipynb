{
 "cells": [
  {
   "cell_type": "markdown",
   "metadata": {},
   "source": [
    "# Pre-Requisites\n",
    "\n",
    "Load neccesary packages/libraries and print versions for reference.\n",
    "\n",
    "Reference: Python 3.12.7 - miniconda3"
   ]
  },
  {
   "cell_type": "code",
   "execution_count": 3,
   "metadata": {},
   "outputs": [
    {
     "name": "stderr",
     "output_type": "stream",
     "text": [
      "/Users/aumchampaneri/.pyenv/versions/miniconda3-latest/lib/python3.12/site-packages/dask/dataframe/__init__.py:31: FutureWarning: The legacy Dask DataFrame implementation is deprecated and will be removed in a future version. Set the configuration option `dataframe.query-planning` to `True` or None to enable the new Dask Dataframe implementation and silence this warning.\n",
      "  warnings.warn(\n"
     ]
    },
    {
     "name": "stdout",
     "output_type": "stream",
     "text": [
      "cellxgene_census 1.16.2\n",
      "tiledbsoma 1.15.6\n",
      "spatialdata 0.3.0\n",
      "spatialdata plot 0.2.9\n"
     ]
    }
   ],
   "source": [
    "# Packages and Libraries\n",
    "import cellxgene_census\n",
    "import tiledbsoma\n",
    "import spatialdata as sd\n",
    "import spatialdata_plot\n",
    "\n",
    "import warnings\n",
    "warnings.filterwarnings(\"ignore\")\n",
    "\n",
    "# Versions of required libraries\n",
    "print(\"cellxgene_census\",cellxgene_census.__version__)\n",
    "print(\"tiledbsoma\", tiledbsoma.__version__)\n",
    "print(\"spatialdata\", sd.__version__)\n",
    "print(\"spatialdata plot\", spatialdata_plot.__version__)"
   ]
  },
  {
   "cell_type": "markdown",
   "metadata": {},
   "source": [
    "# Query CellxGene for 'dataset_id'\n",
    "\n",
    "> UNFINISHED\n",
    "- Filter for datasets I actually want\n"
   ]
  },
  {
   "cell_type": "code",
   "execution_count": 8,
   "metadata": {},
   "outputs": [
    {
     "name": "stdout",
     "output_type": "stream",
     "text": [
      "Census level metadata\n",
      "\n",
      "['datasets', 'organisms', 'summary', 'summary_cell_counts']\n",
      "\n",
      "\n",
      "Census datasets info\n",
      "\n",
      "   soma_joinid                                           citation  \\\n",
      "0            0  Publication: https://doi.org/10.1016/j.isci.20...   \n",
      "1            1  Publication: https://doi.org/10.1016/j.isci.20...   \n",
      "2            2  Publication: https://doi.org/10.1016/j.isci.20...   \n",
      "3            3  Publication: https://doi.org/10.1016/j.isci.20...   \n",
      "4            4  Publication: https://doi.org/10.1038/s41591-02...   \n",
      "\n",
      "                          collection_id  \\\n",
      "0  8e880741-bf9a-4c8e-9227-934204631d2a   \n",
      "1  8e880741-bf9a-4c8e-9227-934204631d2a   \n",
      "2  8e880741-bf9a-4c8e-9227-934204631d2a   \n",
      "3  8e880741-bf9a-4c8e-9227-934204631d2a   \n",
      "4  a96133de-e951-4e2d-ace6-59db8b3bfb1d   \n",
      "\n",
      "                                     collection_name  \\\n",
      "0  High Resolution Slide-seqV2 Spatial Transcript...   \n",
      "1  High Resolution Slide-seqV2 Spatial Transcript...   \n",
      "2  High Resolution Slide-seqV2 Spatial Transcript...   \n",
      "3  High Resolution Slide-seqV2 Spatial Transcript...   \n",
      "4  HTAN/HTAPP Broad - Spatio-molecular dissection...   \n",
      "\n",
      "               collection_doi              collection_doi_label  \\\n",
      "0  10.1016/j.isci.2022.104097   Marshall et al. (2022) iScience   \n",
      "1  10.1016/j.isci.2022.104097   Marshall et al. (2022) iScience   \n",
      "2  10.1016/j.isci.2022.104097   Marshall et al. (2022) iScience   \n",
      "3  10.1016/j.isci.2022.104097   Marshall et al. (2022) iScience   \n",
      "4  10.1038/s41591-024-03215-z  Klughammer et al. (2024) Nat Med   \n",
      "\n",
      "                             dataset_id                    dataset_version_id  \\\n",
      "0  4eb29386-de81-452f-b3c0-e00844e8c7fd  f76861bb-becb-4eb7-82fc-782dc96ccc7f   \n",
      "1  78d59e4a-82eb-4a61-a1dc-da974d7ea54b  7d7ec1b6-6e3f-4aaa-9442-4b22f3424396   \n",
      "2  add5eb84-5fc9-4f01-982e-a346dd42ee82  de54aed8-4f73-48f6-9229-418a840e2d82   \n",
      "3  b020294c-ab82-4547-b5a7-63d8ffa575ed  abe4fce1-0859-4a56-ad1e-734d79f0e6c8   \n",
      "4  d7476ae2-e320-4703-8304-da5c42627e71  863fc5e4-bd4a-4681-9c3d-0ee7ef54e327   \n",
      "\n",
      "                                      dataset_title  \\\n",
      "0  Spatial transcriptomics in mouse: Puck_191112_05   \n",
      "1  Spatial transcriptomics in mouse: Puck_191112_08   \n",
      "2  Spatial transcriptomics in mouse: Puck_191109_20   \n",
      "3  Spatial transcriptomics in mouse: Puck_191112_13   \n",
      "4                      HTAPP-330-SMP-1082 scRNA-seq   \n",
      "\n",
      "                           dataset_h5ad_path  dataset_total_cell_count  \n",
      "0  4eb29386-de81-452f-b3c0-e00844e8c7fd.h5ad                     10888  \n",
      "1  78d59e4a-82eb-4a61-a1dc-da974d7ea54b.h5ad                     10250  \n",
      "2  add5eb84-5fc9-4f01-982e-a346dd42ee82.h5ad                     12906  \n",
      "3  b020294c-ab82-4547-b5a7-63d8ffa575ed.h5ad                     15161  \n",
      "4  d7476ae2-e320-4703-8304-da5c42627e71.h5ad                       565  \n"
     ]
    }
   ],
   "source": [
    "with cellxgene_census.open_soma(census_version=\"2025-01-30\") as census:\n",
    "    #Print Census level metadata\n",
    "    print(\"Census level metadata\\n\")\n",
    "    print(list(census[\"census_info\"].keys()))\n",
    "\n",
    "    print(\"\\n\")\n",
    "\n",
    "    print(\"Census datasets info\\n\")\n",
    "    print(census[\"census_info\"][\"datasets\"].read().concat().to_pandas().head())"
   ]
  },
  {
   "cell_type": "markdown",
   "metadata": {},
   "source": [
    "# Spatial Data Export\n",
    "\n",
    "Query the human experiment in census enabling visualization and analysis.\n",
    "\n",
    "Perform the query using tiledbsoma instead of cellxgene_census\n",
    "\n",
    "> Change 'dataset_id' --- Otherwise working"
   ]
  },
  {
   "cell_type": "code",
   "execution_count": 12,
   "metadata": {},
   "outputs": [
    {
     "data": {
      "text/plain": [
       "SpatialData object\n",
       "├── Images\n",
       "│     └── '4cceac62-9513-42a4-90e5-2878dbb0192c_library': DataArray[cyx] (3, 1862, 2000)\n",
       "├── Shapes\n",
       "│     └── '4cceac62-9513-42a4-90e5-2878dbb0192c_loc': GeoDataFrame shape: (4992, 3) (2D shapes)\n",
       "└── Tables\n",
       "      └── 'RNA': AnnData (4992, 44405)\n",
       "with coordinate systems:\n",
       "    ▸ '4cceac62-9513-42a4-90e5-2878dbb0192c', with elements:\n",
       "        4cceac62-9513-42a4-90e5-2878dbb0192c_library (Images), 4cceac62-9513-42a4-90e5-2878dbb0192c_loc (Shapes)"
      ]
     },
     "execution_count": 12,
     "metadata": {},
     "output_type": "execute_result"
    }
   ],
   "source": [
    "# Export to spatial data\n",
    "\n",
    "census = cellxgene_census.open_soma(census_version=\"2025-01-30\")\n",
    "\n",
    "exp = census[\"census_spatial_sequencing\"][\"homo_sapiens\"]\n",
    "\n",
    "#tiledbsoma export query\n",
    "\n",
    "with exp.axis_query(\n",
    "    measurement_name=\"RNA\",\n",
    "    obs_query=tiledbsoma.AxisQuery(value_filter=\"dataset_id == '4cceac62-9513-42a4-90e5-2878dbb0192c'\") # query specific dataset instead of by obs metadata\n",
    ") as query:\n",
    "    sdata = query.to_spatialdata(X_name=\"raw\")\n",
    "\n",
    "sdata"
   ]
  }
 ],
 "metadata": {
  "kernelspec": {
   "display_name": "base",
   "language": "python",
   "name": "python3"
  },
  "language_info": {
   "codemirror_mode": {
    "name": "ipython",
    "version": 3
   },
   "file_extension": ".py",
   "mimetype": "text/x-python",
   "name": "python",
   "nbconvert_exporter": "python",
   "pygments_lexer": "ipython3",
   "version": "3.12.7"
  }
 },
 "nbformat": 4,
 "nbformat_minor": 2
}
