{
 "cells": [
  {
   "cell_type": "markdown",
   "metadata": {},
   "source": [
    "Load neccesary packages/libraries and print versions for reference.\n",
    "\n",
    "Reference: Python 3.12.7 - miniconda3"
   ]
  },
  {
   "cell_type": "code",
   "execution_count": 2,
   "metadata": {},
   "outputs": [
    {
     "name": "stderr",
     "output_type": "stream",
     "text": [
      "/Users/aumchampaneri/.pyenv/versions/miniconda3-latest/lib/python3.12/site-packages/dask/dataframe/__init__.py:31: FutureWarning: The legacy Dask DataFrame implementation is deprecated and will be removed in a future version. Set the configuration option `dataframe.query-planning` to `True` or None to enable the new Dask Dataframe implementation and silence this warning.\n",
      "  warnings.warn(\n"
     ]
    },
    {
     "name": "stdout",
     "output_type": "stream",
     "text": [
      "cellxgene_census 1.16.2\n",
      "tiledbsoma 1.15.6\n",
      "spatialdata 0.3.0\n",
      "spatialdata plot 0.2.9\n"
     ]
    }
   ],
   "source": [
    "# Packages and Libraries\n",
    "import cellxgene_census\n",
    "import tiledbsoma\n",
    "import spatialdata as sd\n",
    "import spatialdata_plot\n",
    "\n",
    "import warnings\n",
    "warnings.filterwarnings(\"ignore\")\n",
    "\n",
    "# Versions of required libraries\n",
    "print(\"cellxgene_census\",cellxgene_census.__version__)\n",
    "print(\"tiledbsoma\", tiledbsoma.__version__)\n",
    "print(\"spatialdata\", sd.__version__)\n",
    "print(\"spatialdata plot\", spatialdata_plot.__version__)"
   ]
  },
  {
   "cell_type": "markdown",
   "metadata": {},
   "source": [
    "## Query Census\n",
    "\n",
    "Query Census to find the data matching our criteria.\n"
   ]
  },
  {
   "cell_type": "code",
   "execution_count": 17,
   "metadata": {},
   "outputs": [
    {
     "name": "stdout",
     "output_type": "stream",
     "text": [
      "               assay                                          cell_type  \\\n",
      "0        Slide-seqV2  kidney proximal convoluted tubule epithelial cell   \n",
      "1        Slide-seqV2  kidney proximal convoluted tubule epithelial cell   \n",
      "2        Slide-seqV2  kidney proximal convoluted tubule epithelial cell   \n",
      "3        Slide-seqV2  kidney proximal convoluted tubule epithelial cell   \n",
      "4        Slide-seqV2  kidney proximal convoluted tubule epithelial cell   \n",
      "...              ...                                                ...   \n",
      "1949631  Slide-seqV2                                          leukocyte   \n",
      "1949632  Slide-seqV2                                          leukocyte   \n",
      "1949633  Slide-seqV2                                          leukocyte   \n",
      "1949634  Slide-seqV2                                          leukocyte   \n",
      "1949635  Slide-seqV2                                          leukocyte   \n",
      "\n",
      "         tissue tissue_general suspension_type disease  \n",
      "0        kidney         kidney              na  normal  \n",
      "1        kidney         kidney              na  normal  \n",
      "2        kidney         kidney              na  normal  \n",
      "3        kidney         kidney              na  normal  \n",
      "4        kidney         kidney              na  normal  \n",
      "...         ...            ...             ...     ...  \n",
      "1949631  kidney         kidney              na  normal  \n",
      "1949632  kidney         kidney              na  normal  \n",
      "1949633  kidney         kidney              na  normal  \n",
      "1949634  kidney         kidney              na  normal  \n",
      "1949635  kidney         kidney              na  normal  \n",
      "\n",
      "[1949636 rows x 6 columns]\n"
     ]
    }
   ],
   "source": [
    "# Perform census query\n",
    "with cellxgene_census.open_soma(census_version=\"latest\") as census:\n",
    "\n",
    "    # Reads the SOMA DataFrame as slice\n",
    "    cell_metadata = census[\"census_spatial_sequencing\"][\"mus_musculus\"].obs.read(\n",
    "        value_filter = \"assay == 'Slide-seqV2' and tissue == 'kidney'\",\n",
    "        column_names = [\"assay\", \"cell_type\", \"tissue\", \"tissue_general\", \"suspension_type\", \"disease\"]\n",
    "    )\n",
    "\n",
    "    # Concatenates results to a pyarrow.Table\n",
    "    cell_metadata = cell_metadata.concat()\n",
    "\n",
    "    # Converts to a pandas.DataFrame\n",
    "    cell_metadata = cell_metadata.to_pandas()\n",
    "\n",
    "    print(cell_metadata)"
   ]
  }
 ],
 "metadata": {
  "kernelspec": {
   "display_name": "base",
   "language": "python",
   "name": "python3"
  },
  "language_info": {
   "codemirror_mode": {
    "name": "ipython",
    "version": 3
   },
   "file_extension": ".py",
   "mimetype": "text/x-python",
   "name": "python",
   "nbconvert_exporter": "python",
   "pygments_lexer": "ipython3",
   "version": "3.12.7"
  }
 },
 "nbformat": 4,
 "nbformat_minor": 2
}
