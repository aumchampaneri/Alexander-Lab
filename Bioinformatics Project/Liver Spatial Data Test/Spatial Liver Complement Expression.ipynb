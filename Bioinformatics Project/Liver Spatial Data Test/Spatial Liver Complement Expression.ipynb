{
 "cells": [
  {
   "cell_type": "markdown",
   "metadata": {},
   "source": [
    "Load neccesary packages/libraries and print versions for reference.\n",
    "\n",
    "Reference: Python 3.12.7 - miniconda3"
   ]
  },
  {
   "cell_type": "code",
   "execution_count": null,
   "metadata": {},
   "outputs": [],
   "source": [
    "# Packages and Libraries\n",
    "import cellxgene_census\n",
    "import tiledbsoma\n",
    "import spatialdata as sd\n",
    "import spatialdata_plot\n",
    "\n",
    "import warnings\n",
    "warnings.filterwarnings(\"ignore\")\n",
    "\n",
    "# Versions of required libraries\n",
    "print(\"cellxgene_census\",cellxgene_census.__version__)\n",
    "print(\"tiledbsoma\", tiledbsoma.__version__)\n",
    "print(\"spatialdata\", sd.__version__)\n",
    "print(\"spatialdata plot\", spatialdata_plot.__version__)"
   ]
  }
 ],
 "metadata": {
  "kernelspec": {
   "display_name": "base",
   "language": "python",
   "name": "python3"
  },
  "language_info": {
   "name": "python",
   "version": "3.12.7"
  }
 },
 "nbformat": 4,
 "nbformat_minor": 2
}
